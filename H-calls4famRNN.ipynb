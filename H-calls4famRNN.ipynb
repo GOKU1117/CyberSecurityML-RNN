{
  "nbformat": 4,
  "nbformat_minor": 0,
  "metadata": {
    "colab": {
      "provenance": [],
      "gpuType": "T4",
      "toc_visible": true
    },
    "kernelspec": {
      "name": "python3",
      "display_name": "Python 3"
    },
    "language_info": {
      "name": "python"
    },
    "accelerator": "GPU"
  },
  "cells": [
    {
      "cell_type": "markdown",
      "source": [
        "# H-calls4fam_TFDS_rnn\n"
      ],
      "metadata": {
        "id": "SLQp6_xxUhiq"
      }
    },
    {
      "cell_type": "code",
      "source": [
        "# @title\n",
        "import datetime\n",
        "print(datetime.datetime.now())"
      ],
      "metadata": {
        "id": "shlc1BtAARy4",
        "colab": {
          "base_uri": "https://localhost:8080/"
        },
        "outputId": "671dc86b-90bb-408b-9816-1e93e92337af"
      },
      "execution_count": 1,
      "outputs": [
        {
          "output_type": "stream",
          "name": "stdout",
          "text": [
            "2024-05-04 12:34:03.086127\n"
          ]
        }
      ]
    },
    {
      "cell_type": "markdown",
      "source": [
        "Similar to the example we demonstrate in the class, here are some samples of malware call sequences.\n",
        "\n",
        "Now you need to use RNN to analysis the call sequences."
      ],
      "metadata": {
        "id": "pIqW5gh6Uucq"
      }
    },
    {
      "cell_type": "code",
      "execution_count": 2,
      "metadata": {
        "id": "G_GmaLXVE7vU"
      },
      "outputs": [],
      "source": [
        "import os\n",
        "import pandas as pd\n",
        "import numpy as np"
      ]
    },
    {
      "cell_type": "markdown",
      "source": [
        "## tfds Data"
      ],
      "metadata": {
        "id": "1kvesjxKF4K7"
      }
    },
    {
      "cell_type": "code",
      "source": [
        "# TFDS\n",
        "name = \"calls4fam_0522\"\n",
        "\n",
        "save_dir = \"./\" + name + \"/\""
      ],
      "metadata": {
        "id": "4ZbeQDmmVmXU"
      },
      "execution_count": 3,
      "outputs": []
    },
    {
      "cell_type": "code",
      "source": [
        "# get data from github\n",
        "\n",
        "import requests\n",
        "\n",
        "url = 'https://github.com/hsiaom26/DS4CS-24/raw/main/data/calls4fam_0522_tfds.tgz'\n",
        "\n",
        "response = requests.get(url)\n",
        "\n",
        "if response.status_code == 200:\n",
        "    # Open the file for writing\n",
        "    with open('calls4fam_0522_tfds.tgz', 'wb') as f:\n",
        "        # Write the response content to the file\n",
        "        f.write(response.content)\n",
        "else:\n",
        "    print('Error: Failed to download the file')"
      ],
      "metadata": {
        "id": "-6nZvHkvFdN7"
      },
      "execution_count": 4,
      "outputs": []
    },
    {
      "cell_type": "code",
      "source": [
        "!tar -zxvf calls4fam_0522_tfds.tgz"
      ],
      "metadata": {
        "id": "gTNQqjthM5LG",
        "colab": {
          "base_uri": "https://localhost:8080/"
        },
        "outputId": "b142e007-f38f-47cd-80f3-b2a5c5962923"
      },
      "execution_count": 5,
      "outputs": [
        {
          "output_type": "stream",
          "name": "stdout",
          "text": [
            "./calls4fam_0522/\n",
            "./calls4fam_0522/2/\n",
            "./calls4fam_0522/2/626.txt\n",
            "./calls4fam_0522/2/834.txt\n",
            "./calls4fam_0522/2/751.txt\n",
            "./calls4fam_0522/2/866.txt\n",
            "./calls4fam_0522/2/735.txt\n",
            "./calls4fam_0522/2/850.txt\n",
            "./calls4fam_0522/2/808.txt\n",
            "./calls4fam_0522/2/847.txt\n",
            "./calls4fam_0522/2/661.txt\n",
            "./calls4fam_0522/2/809.txt\n",
            "./calls4fam_0522/2/686.txt\n",
            "./calls4fam_0522/2/638.txt\n",
            "./calls4fam_0522/2/774.txt\n",
            "./calls4fam_0522/2/758.txt\n",
            "./calls4fam_0522/2/791.txt\n",
            "./calls4fam_0522/2/631.txt\n",
            "./calls4fam_0522/2/854.txt\n",
            "./calls4fam_0522/2/629.txt\n",
            "./calls4fam_0522/2/616.txt\n",
            "./calls4fam_0522/2/889.txt\n",
            "./calls4fam_0522/2/617.txt\n",
            "./calls4fam_0522/2/902.txt\n",
            "./calls4fam_0522/2/772.txt\n",
            "./calls4fam_0522/2/837.txt\n",
            "./calls4fam_0522/2/623.txt\n",
            "./calls4fam_0522/2/815.txt\n",
            "./calls4fam_0522/2/822.txt\n",
            "./calls4fam_0522/2/648.txt\n",
            "./calls4fam_0522/2/768.txt\n",
            "./calls4fam_0522/2/884.txt\n",
            "./calls4fam_0522/2/694.txt\n",
            "./calls4fam_0522/2/745.txt\n",
            "./calls4fam_0522/2/769.txt\n",
            "./calls4fam_0522/2/839.txt\n",
            "./calls4fam_0522/2/784.txt\n",
            "./calls4fam_0522/2/891.txt\n",
            "./calls4fam_0522/2/717.txt\n",
            "./calls4fam_0522/2/664.txt\n",
            "./calls4fam_0522/2/709.txt\n",
            "./calls4fam_0522/2/863.txt\n",
            "./calls4fam_0522/2/618.txt\n",
            "./calls4fam_0522/2/693.txt\n",
            "./calls4fam_0522/2/659.txt\n",
            "./calls4fam_0522/2/876.txt\n",
            "./calls4fam_0522/2/813.txt\n",
            "./calls4fam_0522/2/677.txt\n",
            "./calls4fam_0522/2/826.txt\n",
            "./calls4fam_0522/2/749.txt\n",
            "./calls4fam_0522/2/800.txt\n",
            "./calls4fam_0522/2/864.txt\n",
            "./calls4fam_0522/2/613.txt\n",
            "./calls4fam_0522/2/752.txt\n",
            "./calls4fam_0522/2/792.txt\n",
            "./calls4fam_0522/2/697.txt\n",
            "./calls4fam_0522/2/810.txt\n",
            "./calls4fam_0522/2/680.txt\n",
            "./calls4fam_0522/2/858.txt\n",
            "./calls4fam_0522/2/655.txt\n",
            "./calls4fam_0522/2/646.txt\n",
            "./calls4fam_0522/2/753.txt\n",
            "./calls4fam_0522/2/645.txt\n",
            "./calls4fam_0522/2/707.txt\n",
            "./calls4fam_0522/2/673.txt\n",
            "./calls4fam_0522/2/656.txt\n",
            "./calls4fam_0522/2/719.txt\n",
            "./calls4fam_0522/2/781.txt\n",
            "./calls4fam_0522/2/844.txt\n",
            "./calls4fam_0522/2/820.txt\n",
            "./calls4fam_0522/2/718.txt\n",
            "./calls4fam_0522/2/725.txt\n",
            "./calls4fam_0522/2/857.txt\n",
            "./calls4fam_0522/2/794.txt\n",
            "./calls4fam_0522/2/652.txt\n",
            "./calls4fam_0522/2/879.txt\n",
            "./calls4fam_0522/2/788.txt\n",
            "./calls4fam_0522/2/827.txt\n",
            "./calls4fam_0522/2/688.txt\n",
            "./calls4fam_0522/2/782.txt\n",
            "./calls4fam_0522/2/873.txt\n",
            "./calls4fam_0522/2/795.txt\n",
            "./calls4fam_0522/2/840.txt\n",
            "./calls4fam_0522/2/609.txt\n",
            "./calls4fam_0522/2/783.txt\n",
            "./calls4fam_0522/2/793.txt\n",
            "./calls4fam_0522/2/901.txt\n",
            "./calls4fam_0522/2/628.txt\n",
            "./calls4fam_0522/2/874.txt\n",
            "./calls4fam_0522/2/730.txt\n",
            "./calls4fam_0522/2/883.txt\n",
            "./calls4fam_0522/2/637.txt\n",
            "./calls4fam_0522/2/775.txt\n",
            "./calls4fam_0522/2/799.txt\n",
            "./calls4fam_0522/2/687.txt\n",
            "./calls4fam_0522/2/899.txt\n",
            "./calls4fam_0522/2/691.txt\n",
            "./calls4fam_0522/2/721.txt\n",
            "./calls4fam_0522/2/714.txt\n",
            "./calls4fam_0522/2/642.txt\n",
            "./calls4fam_0522/2/731.txt\n",
            "./calls4fam_0522/2/640.txt\n",
            "./calls4fam_0522/2/732.txt\n",
            "./calls4fam_0522/2/692.txt\n",
            "./calls4fam_0522/2/702.txt\n",
            "./calls4fam_0522/2/780.txt\n",
            "./calls4fam_0522/2/851.txt\n",
            "./calls4fam_0522/2/665.txt\n",
            "./calls4fam_0522/2/676.txt\n",
            "./calls4fam_0522/2/806.txt\n",
            "./calls4fam_0522/2/860.txt\n",
            "./calls4fam_0522/2/814.txt\n",
            "./calls4fam_0522/2/812.txt\n",
            "./calls4fam_0522/2/685.txt\n",
            "./calls4fam_0522/2/700.txt\n",
            "./calls4fam_0522/2/885.txt\n",
            "./calls4fam_0522/2/713.txt\n",
            "./calls4fam_0522/2/838.txt\n",
            "./calls4fam_0522/2/740.txt\n",
            "./calls4fam_0522/2/841.txt\n",
            "./calls4fam_0522/2/877.txt\n",
            "./calls4fam_0522/2/744.txt\n",
            "./calls4fam_0522/2/801.txt\n",
            "./calls4fam_0522/2/724.txt\n",
            "./calls4fam_0522/2/737.txt\n",
            "./calls4fam_0522/2/639.txt\n",
            "./calls4fam_0522/2/703.txt\n",
            "./calls4fam_0522/2/620.txt\n",
            "./calls4fam_0522/2/657.txt\n",
            "./calls4fam_0522/2/650.txt\n",
            "./calls4fam_0522/2/746.txt\n",
            "./calls4fam_0522/2/853.txt\n",
            "./calls4fam_0522/2/776.txt\n",
            "./calls4fam_0522/2/695.txt\n",
            "./calls4fam_0522/2/663.txt\n",
            "./calls4fam_0522/2/878.txt\n",
            "./calls4fam_0522/2/698.txt\n",
            "./calls4fam_0522/2/823.txt\n",
            "./calls4fam_0522/2/802.txt\n",
            "./calls4fam_0522/2/607.txt\n",
            "./calls4fam_0522/2/767.txt\n",
            "./calls4fam_0522/2/833.txt\n",
            "./calls4fam_0522/2/903.txt\n",
            "./calls4fam_0522/2/870.txt\n",
            "./calls4fam_0522/2/906.txt\n",
            "./calls4fam_0522/2/817.txt\n",
            "./calls4fam_0522/2/900.txt\n",
            "./calls4fam_0522/2/880.txt\n",
            "./calls4fam_0522/2/894.txt\n",
            "./calls4fam_0522/2/674.txt\n",
            "./calls4fam_0522/2/859.txt\n",
            "./calls4fam_0522/2/882.txt\n",
            "./calls4fam_0522/2/612.txt\n",
            "./calls4fam_0522/2/897.txt\n",
            "./calls4fam_0522/2/865.txt\n",
            "./calls4fam_0522/2/868.txt\n",
            "./calls4fam_0522/2/708.txt\n",
            "./calls4fam_0522/2/670.txt\n",
            "./calls4fam_0522/2/660.txt\n",
            "./calls4fam_0522/2/635.txt\n",
            "./calls4fam_0522/2/736.txt\n",
            "./calls4fam_0522/2/605.txt\n",
            "./calls4fam_0522/2/896.txt\n",
            "./calls4fam_0522/2/846.txt\n",
            "./calls4fam_0522/2/704.txt\n",
            "./calls4fam_0522/2/667.txt\n",
            "./calls4fam_0522/2/830.txt\n",
            "./calls4fam_0522/2/828.txt\n",
            "./calls4fam_0522/2/790.txt\n",
            "./calls4fam_0522/2/893.txt\n",
            "./calls4fam_0522/2/824.txt\n",
            "./calls4fam_0522/2/649.txt\n",
            "./calls4fam_0522/2/811.txt\n",
            "./calls4fam_0522/2/819.txt\n",
            "./calls4fam_0522/2/755.txt\n",
            "./calls4fam_0522/2/711.txt\n",
            "./calls4fam_0522/2/763.txt\n",
            "./calls4fam_0522/2/760.txt\n",
            "./calls4fam_0522/2/771.txt\n",
            "./calls4fam_0522/2/750.txt\n",
            "./calls4fam_0522/2/821.txt\n",
            "./calls4fam_0522/2/706.txt\n",
            "./calls4fam_0522/2/803.txt\n",
            "./calls4fam_0522/2/886.txt\n",
            "./calls4fam_0522/2/678.txt\n",
            "./calls4fam_0522/2/867.txt\n",
            "./calls4fam_0522/2/668.txt\n",
            "./calls4fam_0522/2/722.txt\n",
            "./calls4fam_0522/2/716.txt\n",
            "./calls4fam_0522/2/825.txt\n",
            "./calls4fam_0522/2/743.txt\n",
            "./calls4fam_0522/2/761.txt\n",
            "./calls4fam_0522/2/875.txt\n",
            "./calls4fam_0522/2/747.txt\n",
            "./calls4fam_0522/2/895.txt\n",
            "./calls4fam_0522/2/898.txt\n",
            "./calls4fam_0522/2/738.txt\n",
            "./calls4fam_0522/2/765.txt\n",
            "./calls4fam_0522/2/773.txt\n",
            "./calls4fam_0522/2/682.txt\n",
            "./calls4fam_0522/2/849.txt\n",
            "./calls4fam_0522/2/872.txt\n",
            "./calls4fam_0522/2/689.txt\n",
            "./calls4fam_0522/2/888.txt\n",
            "./calls4fam_0522/2/658.txt\n",
            "./calls4fam_0522/2/848.txt\n",
            "./calls4fam_0522/2/789.txt\n",
            "./calls4fam_0522/2/832.txt\n",
            "./calls4fam_0522/2/627.txt\n",
            "./calls4fam_0522/2/675.txt\n",
            "./calls4fam_0522/2/818.txt\n",
            "./calls4fam_0522/2/890.txt\n",
            "./calls4fam_0522/2/887.txt\n",
            "./calls4fam_0522/2/622.txt\n",
            "./calls4fam_0522/2/836.txt\n",
            "./calls4fam_0522/2/619.txt\n",
            "./calls4fam_0522/2/861.txt\n",
            "./calls4fam_0522/2/807.txt\n",
            "./calls4fam_0522/2/748.txt\n",
            "./calls4fam_0522/2/759.txt\n",
            "./calls4fam_0522/2/904.txt\n",
            "./calls4fam_0522/2/796.txt\n",
            "./calls4fam_0522/2/797.txt\n",
            "./calls4fam_0522/2/733.txt\n",
            "./calls4fam_0522/2/786.txt\n",
            "./calls4fam_0522/2/892.txt\n",
            "./calls4fam_0522/2/715.txt\n",
            "./calls4fam_0522/2/829.txt\n",
            "./calls4fam_0522/2/756.txt\n",
            "./calls4fam_0522/2/729.txt\n",
            "./calls4fam_0522/2/764.txt\n",
            "./calls4fam_0522/2/785.txt\n",
            "./calls4fam_0522/2/835.txt\n",
            "./calls4fam_0522/2/778.txt\n",
            "./calls4fam_0522/2/705.txt\n",
            "./calls4fam_0522/2/610.txt\n",
            "./calls4fam_0522/2/766.txt\n",
            "./calls4fam_0522/2/742.txt\n",
            "./calls4fam_0522/2/842.txt\n",
            "./calls4fam_0522/2/662.txt\n",
            "./calls4fam_0522/2/741.txt\n",
            "./calls4fam_0522/2/856.txt\n",
            "./calls4fam_0522/2/712.txt\n",
            "./calls4fam_0522/2/816.txt\n",
            "./calls4fam_0522/2/608.txt\n",
            "./calls4fam_0522/2/647.txt\n",
            "./calls4fam_0522/2/710.txt\n",
            "./calls4fam_0522/2/855.txt\n",
            "./calls4fam_0522/2/843.txt\n",
            "./calls4fam_0522/2/845.txt\n",
            "./calls4fam_0522/2/779.txt\n",
            "./calls4fam_0522/2/624.txt\n",
            "./calls4fam_0522/2/852.txt\n",
            "./calls4fam_0522/2/636.txt\n",
            "./calls4fam_0522/2/720.txt\n",
            "./calls4fam_0522/2/672.txt\n",
            "./calls4fam_0522/2/621.txt\n",
            "./calls4fam_0522/2/625.txt\n",
            "./calls4fam_0522/2/739.txt\n",
            "./calls4fam_0522/2/862.txt\n",
            "./calls4fam_0522/2/805.txt\n",
            "./calls4fam_0522/2/669.txt\n",
            "./calls4fam_0522/2/777.txt\n",
            "./calls4fam_0522/2/614.txt\n",
            "./calls4fam_0522/2/632.txt\n",
            "./calls4fam_0522/2/696.txt\n",
            "./calls4fam_0522/2/684.txt\n",
            "./calls4fam_0522/2/734.txt\n",
            "./calls4fam_0522/2/644.txt\n",
            "./calls4fam_0522/2/615.txt\n",
            "./calls4fam_0522/2/630.txt\n",
            "./calls4fam_0522/2/869.txt\n",
            "./calls4fam_0522/2/762.txt\n",
            "./calls4fam_0522/2/701.txt\n",
            "./calls4fam_0522/2/681.txt\n",
            "./calls4fam_0522/2/757.txt\n",
            "./calls4fam_0522/2/634.txt\n",
            "./calls4fam_0522/2/723.txt\n",
            "./calls4fam_0522/2/905.txt\n",
            "./calls4fam_0522/2/871.txt\n",
            "./calls4fam_0522/2/654.txt\n",
            "./calls4fam_0522/2/787.txt\n",
            "./calls4fam_0522/2/633.txt\n",
            "./calls4fam_0522/2/727.txt\n",
            "./calls4fam_0522/2/726.txt\n",
            "./calls4fam_0522/2/679.txt\n",
            "./calls4fam_0522/2/770.txt\n",
            "./calls4fam_0522/2/653.txt\n",
            "./calls4fam_0522/2/671.txt\n",
            "./calls4fam_0522/2/754.txt\n",
            "./calls4fam_0522/2/690.txt\n",
            "./calls4fam_0522/2/666.txt\n",
            "./calls4fam_0522/2/643.txt\n",
            "./calls4fam_0522/2/699.txt\n",
            "./calls4fam_0522/2/651.txt\n",
            "./calls4fam_0522/2/728.txt\n",
            "./calls4fam_0522/2/881.txt\n",
            "./calls4fam_0522/2/611.txt\n",
            "./calls4fam_0522/2/641.txt\n",
            "./calls4fam_0522/2/798.txt\n",
            "./calls4fam_0522/2/804.txt\n",
            "./calls4fam_0522/2/683.txt\n",
            "./calls4fam_0522/2/606.txt\n",
            "./calls4fam_0522/2/831.txt\n",
            "./calls4fam_0522/1/\n",
            "./calls4fam_0522/1/410.txt\n",
            "./calls4fam_0522/1/549.txt\n",
            "./calls4fam_0522/1/332.txt\n",
            "./calls4fam_0522/1/374.txt\n",
            "./calls4fam_0522/1/326.txt\n",
            "./calls4fam_0522/1/519.txt\n",
            "./calls4fam_0522/1/503.txt\n",
            "./calls4fam_0522/1/405.txt\n",
            "./calls4fam_0522/1/498.txt\n",
            "./calls4fam_0522/1/486.txt\n",
            "./calls4fam_0522/1/380.txt\n",
            "./calls4fam_0522/1/528.txt\n",
            "./calls4fam_0522/1/521.txt\n",
            "./calls4fam_0522/1/344.txt\n",
            "./calls4fam_0522/1/551.txt\n",
            "./calls4fam_0522/1/418.txt\n",
            "./calls4fam_0522/1/485.txt\n",
            "./calls4fam_0522/1/480.txt\n",
            "./calls4fam_0522/1/529.txt\n",
            "./calls4fam_0522/1/599.txt\n",
            "./calls4fam_0522/1/443.txt\n",
            "./calls4fam_0522/1/310.txt\n",
            "./calls4fam_0522/1/556.txt\n",
            "./calls4fam_0522/1/525.txt\n",
            "./calls4fam_0522/1/572.txt\n",
            "./calls4fam_0522/1/587.txt\n",
            "./calls4fam_0522/1/353.txt\n",
            "./calls4fam_0522/1/372.txt\n",
            "./calls4fam_0522/1/424.txt\n",
            "./calls4fam_0522/1/376.txt\n",
            "./calls4fam_0522/1/350.txt\n",
            "./calls4fam_0522/1/588.txt\n",
            "./calls4fam_0522/1/593.txt\n",
            "./calls4fam_0522/1/534.txt\n",
            "./calls4fam_0522/1/535.txt\n",
            "./calls4fam_0522/1/597.txt\n",
            "./calls4fam_0522/1/417.txt\n",
            "./calls4fam_0522/1/482.txt\n",
            "./calls4fam_0522/1/379.txt\n",
            "./calls4fam_0522/1/454.txt\n",
            "./calls4fam_0522/1/583.txt\n",
            "./calls4fam_0522/1/604.txt\n",
            "./calls4fam_0522/1/558.txt\n",
            "./calls4fam_0522/1/459.txt\n",
            "./calls4fam_0522/1/324.txt\n",
            "./calls4fam_0522/1/520.txt\n",
            "./calls4fam_0522/1/544.txt\n",
            "./calls4fam_0522/1/555.txt\n",
            "./calls4fam_0522/1/433.txt\n",
            "./calls4fam_0522/1/311.txt\n",
            "./calls4fam_0522/1/429.txt\n",
            "./calls4fam_0522/1/516.txt\n",
            "./calls4fam_0522/1/492.txt\n",
            "./calls4fam_0522/1/394.txt\n",
            "./calls4fam_0522/1/340.txt\n",
            "./calls4fam_0522/1/464.txt\n",
            "./calls4fam_0522/1/403.txt\n",
            "./calls4fam_0522/1/580.txt\n",
            "./calls4fam_0522/1/412.txt\n",
            "./calls4fam_0522/1/321.txt\n",
            "./calls4fam_0522/1/309.txt\n",
            "./calls4fam_0522/1/339.txt\n",
            "./calls4fam_0522/1/308.txt\n",
            "./calls4fam_0522/1/361.txt\n",
            "./calls4fam_0522/1/479.txt\n",
            "./calls4fam_0522/1/538.txt\n",
            "./calls4fam_0522/1/360.txt\n",
            "./calls4fam_0522/1/592.txt\n",
            "./calls4fam_0522/1/328.txt\n",
            "./calls4fam_0522/1/406.txt\n",
            "./calls4fam_0522/1/395.txt\n",
            "./calls4fam_0522/1/568.txt\n",
            "./calls4fam_0522/1/506.txt\n",
            "./calls4fam_0522/1/358.txt\n",
            "./calls4fam_0522/1/497.txt\n",
            "./calls4fam_0522/1/314.txt\n",
            "./calls4fam_0522/1/569.txt\n",
            "./calls4fam_0522/1/601.txt\n",
            "./calls4fam_0522/1/526.txt\n",
            "./calls4fam_0522/1/571.txt\n",
            "./calls4fam_0522/1/499.txt\n",
            "./calls4fam_0522/1/435.txt\n",
            "./calls4fam_0522/1/322.txt\n",
            "./calls4fam_0522/1/390.txt\n",
            "./calls4fam_0522/1/334.txt\n",
            "./calls4fam_0522/1/590.txt\n",
            "./calls4fam_0522/1/338.txt\n",
            "./calls4fam_0522/1/577.txt\n",
            "./calls4fam_0522/1/356.txt\n",
            "./calls4fam_0522/1/444.txt\n",
            "./calls4fam_0522/1/501.txt\n",
            "./calls4fam_0522/1/425.txt\n",
            "./calls4fam_0522/1/603.txt\n",
            "./calls4fam_0522/1/584.txt\n",
            "./calls4fam_0522/1/398.txt\n",
            "./calls4fam_0522/1/368.txt\n",
            "./calls4fam_0522/1/430.txt\n",
            "./calls4fam_0522/1/585.txt\n",
            "./calls4fam_0522/1/456.txt\n",
            "./calls4fam_0522/1/594.txt\n",
            "./calls4fam_0522/1/504.txt\n",
            "./calls4fam_0522/1/461.txt\n",
            "./calls4fam_0522/1/564.txt\n",
            "./calls4fam_0522/1/345.txt\n",
            "./calls4fam_0522/1/447.txt\n",
            "./calls4fam_0522/1/469.txt\n",
            "./calls4fam_0522/1/453.txt\n",
            "./calls4fam_0522/1/399.txt\n",
            "./calls4fam_0522/1/442.txt\n",
            "./calls4fam_0522/1/437.txt\n",
            "./calls4fam_0522/1/431.txt\n",
            "./calls4fam_0522/1/440.txt\n",
            "./calls4fam_0522/1/342.txt\n",
            "./calls4fam_0522/1/483.txt\n",
            "./calls4fam_0522/1/407.txt\n",
            "./calls4fam_0522/1/367.txt\n",
            "./calls4fam_0522/1/540.txt\n",
            "./calls4fam_0522/1/428.txt\n",
            "./calls4fam_0522/1/589.txt\n",
            "./calls4fam_0522/1/552.txt\n",
            "./calls4fam_0522/1/404.txt\n",
            "./calls4fam_0522/1/381.txt\n",
            "./calls4fam_0522/1/347.txt\n",
            "./calls4fam_0522/1/476.txt\n",
            "./calls4fam_0522/1/484.txt\n",
            "./calls4fam_0522/1/415.txt\n",
            "./calls4fam_0522/1/377.txt\n",
            "./calls4fam_0522/1/471.txt\n",
            "./calls4fam_0522/1/596.txt\n",
            "./calls4fam_0522/1/354.txt\n",
            "./calls4fam_0522/1/457.txt\n",
            "./calls4fam_0522/1/436.txt\n",
            "./calls4fam_0522/1/319.txt\n",
            "./calls4fam_0522/1/426.txt\n",
            "./calls4fam_0522/1/518.txt\n",
            "./calls4fam_0522/1/500.txt\n",
            "./calls4fam_0522/1/427.txt\n",
            "./calls4fam_0522/1/467.txt\n",
            "./calls4fam_0522/1/495.txt\n",
            "./calls4fam_0522/1/371.txt\n",
            "./calls4fam_0522/1/408.txt\n",
            "./calls4fam_0522/1/533.txt\n",
            "./calls4fam_0522/1/312.txt\n",
            "./calls4fam_0522/1/458.txt\n",
            "./calls4fam_0522/1/470.txt\n",
            "./calls4fam_0522/1/465.txt\n",
            "./calls4fam_0522/1/385.txt\n",
            "./calls4fam_0522/1/455.txt\n",
            "./calls4fam_0522/1/346.txt\n",
            "./calls4fam_0522/1/357.txt\n",
            "./calls4fam_0522/1/573.txt\n",
            "./calls4fam_0522/1/561.txt\n",
            "./calls4fam_0522/1/375.txt\n",
            "./calls4fam_0522/1/511.txt\n",
            "./calls4fam_0522/1/315.txt\n",
            "./calls4fam_0522/1/373.txt\n",
            "./calls4fam_0522/1/448.txt\n",
            "./calls4fam_0522/1/349.txt\n",
            "./calls4fam_0522/1/595.txt\n",
            "./calls4fam_0522/1/478.txt\n",
            "./calls4fam_0522/1/343.txt\n",
            "./calls4fam_0522/1/422.txt\n",
            "./calls4fam_0522/1/313.txt\n",
            "./calls4fam_0522/1/522.txt\n",
            "./calls4fam_0522/1/527.txt\n",
            "./calls4fam_0522/1/370.txt\n",
            "./calls4fam_0522/1/565.txt\n",
            "./calls4fam_0522/1/409.txt\n",
            "./calls4fam_0522/1/306.txt\n",
            "./calls4fam_0522/1/553.txt\n",
            "./calls4fam_0522/1/411.txt\n",
            "./calls4fam_0522/1/450.txt\n",
            "./calls4fam_0522/1/396.txt\n",
            "./calls4fam_0522/1/305.txt\n",
            "./calls4fam_0522/1/493.txt\n",
            "./calls4fam_0522/1/362.txt\n",
            "./calls4fam_0522/1/364.txt\n",
            "./calls4fam_0522/1/541.txt\n",
            "./calls4fam_0522/1/384.txt\n",
            "./calls4fam_0522/1/438.txt\n",
            "./calls4fam_0522/1/355.txt\n",
            "./calls4fam_0522/1/512.txt\n",
            "./calls4fam_0522/1/488.txt\n",
            "./calls4fam_0522/1/318.txt\n",
            "./calls4fam_0522/1/348.txt\n",
            "./calls4fam_0522/1/391.txt\n",
            "./calls4fam_0522/1/574.txt\n",
            "./calls4fam_0522/1/389.txt\n",
            "./calls4fam_0522/1/449.txt\n",
            "./calls4fam_0522/1/563.txt\n",
            "./calls4fam_0522/1/352.txt\n",
            "./calls4fam_0522/1/325.txt\n",
            "./calls4fam_0522/1/586.txt\n",
            "./calls4fam_0522/1/400.txt\n",
            "./calls4fam_0522/1/463.txt\n",
            "./calls4fam_0522/1/515.txt\n",
            "./calls4fam_0522/1/578.txt\n",
            "./calls4fam_0522/1/323.txt\n",
            "./calls4fam_0522/1/416.txt\n",
            "./calls4fam_0522/1/591.txt\n",
            "./calls4fam_0522/1/363.txt\n",
            "./calls4fam_0522/1/523.txt\n",
            "./calls4fam_0522/1/351.txt\n",
            "./calls4fam_0522/1/413.txt\n",
            "./calls4fam_0522/1/473.txt\n",
            "./calls4fam_0522/1/304.txt\n",
            "./calls4fam_0522/1/451.txt\n",
            "./calls4fam_0522/1/557.txt\n",
            "./calls4fam_0522/1/337.txt\n",
            "./calls4fam_0522/1/386.txt\n",
            "./calls4fam_0522/1/414.txt\n",
            "./calls4fam_0522/1/439.txt\n",
            "./calls4fam_0522/1/545.txt\n",
            "./calls4fam_0522/1/475.txt\n",
            "./calls4fam_0522/1/502.txt\n",
            "./calls4fam_0522/1/566.txt\n",
            "./calls4fam_0522/1/505.txt\n",
            "./calls4fam_0522/1/421.txt\n",
            "./calls4fam_0522/1/513.txt\n",
            "./calls4fam_0522/1/378.txt\n",
            "./calls4fam_0522/1/546.txt\n",
            "./calls4fam_0522/1/423.txt\n",
            "./calls4fam_0522/1/387.txt\n",
            "./calls4fam_0522/1/331.txt\n",
            "./calls4fam_0522/1/366.txt\n",
            "./calls4fam_0522/1/600.txt\n",
            "./calls4fam_0522/1/575.txt\n",
            "./calls4fam_0522/1/401.txt\n",
            "./calls4fam_0522/1/576.txt\n",
            "./calls4fam_0522/1/335.txt\n",
            "./calls4fam_0522/1/307.txt\n",
            "./calls4fam_0522/1/524.txt\n",
            "./calls4fam_0522/1/452.txt\n",
            "./calls4fam_0522/1/333.txt\n",
            "./calls4fam_0522/1/554.txt\n",
            "./calls4fam_0522/1/365.txt\n",
            "./calls4fam_0522/1/531.txt\n",
            "./calls4fam_0522/1/468.txt\n",
            "./calls4fam_0522/1/517.txt\n",
            "./calls4fam_0522/1/460.txt\n",
            "./calls4fam_0522/1/542.txt\n",
            "./calls4fam_0522/1/537.txt\n",
            "./calls4fam_0522/1/532.txt\n",
            "./calls4fam_0522/1/602.txt\n",
            "./calls4fam_0522/1/539.txt\n",
            "./calls4fam_0522/1/441.txt\n",
            "./calls4fam_0522/1/402.txt\n",
            "./calls4fam_0522/1/547.txt\n",
            "./calls4fam_0522/1/462.txt\n",
            "./calls4fam_0522/1/487.txt\n",
            "./calls4fam_0522/1/466.txt\n",
            "./calls4fam_0522/1/316.txt\n",
            "./calls4fam_0522/1/559.txt\n",
            "./calls4fam_0522/1/392.txt\n",
            "./calls4fam_0522/1/496.txt\n",
            "./calls4fam_0522/1/327.txt\n",
            "./calls4fam_0522/1/530.txt\n",
            "./calls4fam_0522/1/536.txt\n",
            "./calls4fam_0522/1/543.txt\n",
            "./calls4fam_0522/1/341.txt\n",
            "./calls4fam_0522/1/329.txt\n",
            "./calls4fam_0522/1/508.txt\n",
            "./calls4fam_0522/1/359.txt\n",
            "./calls4fam_0522/1/320.txt\n",
            "./calls4fam_0522/1/509.txt\n",
            "./calls4fam_0522/1/477.txt\n",
            "./calls4fam_0522/1/474.txt\n",
            "./calls4fam_0522/1/397.txt\n",
            "./calls4fam_0522/1/330.txt\n",
            "./calls4fam_0522/1/491.txt\n",
            "./calls4fam_0522/1/510.txt\n",
            "./calls4fam_0522/1/393.txt\n",
            "./calls4fam_0522/1/383.txt\n",
            "./calls4fam_0522/1/514.txt\n",
            "./calls4fam_0522/1/419.txt\n",
            "./calls4fam_0522/1/581.txt\n",
            "./calls4fam_0522/1/432.txt\n",
            "./calls4fam_0522/1/420.txt\n",
            "./calls4fam_0522/1/570.txt\n",
            "./calls4fam_0522/1/562.txt\n",
            "./calls4fam_0522/1/548.txt\n",
            "./calls4fam_0522/1/303.txt\n",
            "./calls4fam_0522/1/494.txt\n",
            "./calls4fam_0522/1/481.txt\n",
            "./calls4fam_0522/1/388.txt\n",
            "./calls4fam_0522/1/489.txt\n",
            "./calls4fam_0522/1/507.txt\n",
            "./calls4fam_0522/1/445.txt\n",
            "./calls4fam_0522/1/598.txt\n",
            "./calls4fam_0522/1/579.txt\n",
            "./calls4fam_0522/1/550.txt\n",
            "./calls4fam_0522/1/472.txt\n",
            "./calls4fam_0522/1/369.txt\n",
            "./calls4fam_0522/1/434.txt\n",
            "./calls4fam_0522/1/382.txt\n",
            "./calls4fam_0522/1/317.txt\n",
            "./calls4fam_0522/1/567.txt\n",
            "./calls4fam_0522/1/582.txt\n",
            "./calls4fam_0522/1/446.txt\n",
            "./calls4fam_0522/1/560.txt\n",
            "./calls4fam_0522/1/336.txt\n",
            "./calls4fam_0522/1/490.txt\n",
            "./calls4fam_0522/5/\n",
            "./calls4fam_0522/5/989.txt\n",
            "./calls4fam_0522/5/1004.txt\n",
            "./calls4fam_0522/5/916.txt\n",
            "./calls4fam_0522/5/996.txt\n",
            "./calls4fam_0522/5/1160.txt\n",
            "./calls4fam_0522/5/1051.txt\n",
            "./calls4fam_0522/5/931.txt\n",
            "./calls4fam_0522/5/947.txt\n",
            "./calls4fam_0522/5/1014.txt\n",
            "./calls4fam_0522/5/1065.txt\n",
            "./calls4fam_0522/5/965.txt\n",
            "./calls4fam_0522/5/909.txt\n",
            "./calls4fam_0522/5/912.txt\n",
            "./calls4fam_0522/5/1046.txt\n",
            "./calls4fam_0522/5/978.txt\n",
            "./calls4fam_0522/5/949.txt\n",
            "./calls4fam_0522/5/977.txt\n",
            "./calls4fam_0522/5/999.txt\n",
            "./calls4fam_0522/5/1054.txt\n",
            "./calls4fam_0522/5/927.txt\n",
            "./calls4fam_0522/5/980.txt\n",
            "./calls4fam_0522/5/974.txt\n",
            "./calls4fam_0522/5/1103.txt\n",
            "./calls4fam_0522/5/969.txt\n",
            "./calls4fam_0522/5/1055.txt\n",
            "./calls4fam_0522/5/1063.txt\n",
            "./calls4fam_0522/5/1058.txt\n",
            "./calls4fam_0522/5/1159.txt\n",
            "./calls4fam_0522/5/1178.txt\n",
            "./calls4fam_0522/5/1129.txt\n",
            "./calls4fam_0522/5/1172.txt\n",
            "./calls4fam_0522/5/1158.txt\n",
            "./calls4fam_0522/5/926.txt\n",
            "./calls4fam_0522/5/1041.txt\n",
            "./calls4fam_0522/5/997.txt\n",
            "./calls4fam_0522/5/923.txt\n",
            "./calls4fam_0522/5/1179.txt\n",
            "./calls4fam_0522/5/995.txt\n",
            "./calls4fam_0522/5/1183.txt\n",
            "./calls4fam_0522/5/1073.txt\n",
            "./calls4fam_0522/5/1170.txt\n",
            "./calls4fam_0522/5/1013.txt\n",
            "./calls4fam_0522/5/1195.txt\n",
            "./calls4fam_0522/5/936.txt\n",
            "./calls4fam_0522/5/1122.txt\n",
            "./calls4fam_0522/5/1142.txt\n",
            "./calls4fam_0522/5/917.txt\n",
            "./calls4fam_0522/5/1203.txt\n",
            "./calls4fam_0522/5/1095.txt\n",
            "./calls4fam_0522/5/1151.txt\n",
            "./calls4fam_0522/5/1161.txt\n",
            "./calls4fam_0522/5/1023.txt\n",
            "./calls4fam_0522/5/1043.txt\n",
            "./calls4fam_0522/5/941.txt\n",
            "./calls4fam_0522/5/932.txt\n",
            "./calls4fam_0522/5/1033.txt\n",
            "./calls4fam_0522/5/972.txt\n",
            "./calls4fam_0522/5/933.txt\n",
            "./calls4fam_0522/5/1107.txt\n",
            "./calls4fam_0522/5/918.txt\n",
            "./calls4fam_0522/5/1061.txt\n",
            "./calls4fam_0522/5/942.txt\n",
            "./calls4fam_0522/5/957.txt\n",
            "./calls4fam_0522/5/1114.txt\n",
            "./calls4fam_0522/5/1009.txt\n",
            "./calls4fam_0522/5/1188.txt\n",
            "./calls4fam_0522/5/1003.txt\n",
            "./calls4fam_0522/5/1127.txt\n",
            "./calls4fam_0522/5/1050.txt\n",
            "./calls4fam_0522/5/943.txt\n",
            "./calls4fam_0522/5/1117.txt\n",
            "./calls4fam_0522/5/1132.txt\n",
            "./calls4fam_0522/5/1176.txt\n",
            "./calls4fam_0522/5/951.txt\n",
            "./calls4fam_0522/5/984.txt\n",
            "./calls4fam_0522/5/1018.txt\n",
            "./calls4fam_0522/5/1062.txt\n",
            "./calls4fam_0522/5/1191.txt\n",
            "./calls4fam_0522/5/1072.txt\n",
            "./calls4fam_0522/5/1064.txt\n",
            "./calls4fam_0522/5/1116.txt\n",
            "./calls4fam_0522/5/945.txt\n",
            "./calls4fam_0522/5/924.txt\n",
            "./calls4fam_0522/5/1020.txt\n",
            "./calls4fam_0522/5/1149.txt\n",
            "./calls4fam_0522/5/1180.txt\n",
            "./calls4fam_0522/5/1071.txt\n",
            "./calls4fam_0522/5/991.txt\n",
            "./calls4fam_0522/5/1157.txt\n",
            "./calls4fam_0522/5/950.txt\n",
            "./calls4fam_0522/5/1077.txt\n",
            "./calls4fam_0522/5/1027.txt\n",
            "./calls4fam_0522/5/955.txt\n",
            "./calls4fam_0522/5/992.txt\n",
            "./calls4fam_0522/5/987.txt\n",
            "./calls4fam_0522/5/1047.txt\n",
            "./calls4fam_0522/5/1056.txt\n",
            "./calls4fam_0522/5/961.txt\n",
            "./calls4fam_0522/5/1086.txt\n",
            "./calls4fam_0522/5/1105.txt\n",
            "./calls4fam_0522/5/1126.txt\n",
            "./calls4fam_0522/5/1125.txt\n",
            "./calls4fam_0522/5/1092.txt\n",
            "./calls4fam_0522/5/1196.txt\n",
            "./calls4fam_0522/5/1030.txt\n",
            "./calls4fam_0522/5/1010.txt\n",
            "./calls4fam_0522/5/1031.txt\n",
            "./calls4fam_0522/5/922.txt\n",
            "./calls4fam_0522/5/1205.txt\n",
            "./calls4fam_0522/5/983.txt\n",
            "./calls4fam_0522/5/914.txt\n",
            "./calls4fam_0522/5/1207.txt\n",
            "./calls4fam_0522/5/1110.txt\n",
            "./calls4fam_0522/5/1006.txt\n",
            "./calls4fam_0522/5/1145.txt\n",
            "./calls4fam_0522/5/1021.txt\n",
            "./calls4fam_0522/5/1166.txt\n",
            "./calls4fam_0522/5/1128.txt\n",
            "./calls4fam_0522/5/1186.txt\n",
            "./calls4fam_0522/5/1082.txt\n",
            "./calls4fam_0522/5/1048.txt\n",
            "./calls4fam_0522/5/1169.txt\n",
            "./calls4fam_0522/5/967.txt\n",
            "./calls4fam_0522/5/1131.txt\n",
            "./calls4fam_0522/5/1102.txt\n",
            "./calls4fam_0522/5/921.txt\n",
            "./calls4fam_0522/5/1137.txt\n",
            "./calls4fam_0522/5/1108.txt\n",
            "./calls4fam_0522/5/1175.txt\n",
            "./calls4fam_0522/5/1025.txt\n",
            "./calls4fam_0522/5/1088.txt\n",
            "./calls4fam_0522/5/1049.txt\n",
            "./calls4fam_0522/5/1162.txt\n",
            "./calls4fam_0522/5/913.txt\n",
            "./calls4fam_0522/5/1120.txt\n",
            "./calls4fam_0522/5/948.txt\n",
            "./calls4fam_0522/5/966.txt\n",
            "./calls4fam_0522/5/1177.txt\n",
            "./calls4fam_0522/5/1143.txt\n",
            "./calls4fam_0522/5/952.txt\n",
            "./calls4fam_0522/5/1045.txt\n",
            "./calls4fam_0522/5/1167.txt\n",
            "./calls4fam_0522/5/1067.txt\n",
            "./calls4fam_0522/5/928.txt\n",
            "./calls4fam_0522/5/934.txt\n",
            "./calls4fam_0522/5/1081.txt\n",
            "./calls4fam_0522/5/954.txt\n",
            "./calls4fam_0522/5/1044.txt\n",
            "./calls4fam_0522/5/1034.txt\n",
            "./calls4fam_0522/5/1080.txt\n",
            "./calls4fam_0522/5/1189.txt\n",
            "./calls4fam_0522/5/994.txt\n",
            "./calls4fam_0522/5/1171.txt\n",
            "./calls4fam_0522/5/1121.txt\n",
            "./calls4fam_0522/5/944.txt\n",
            "./calls4fam_0522/5/1133.txt\n",
            "./calls4fam_0522/5/1052.txt\n",
            "./calls4fam_0522/5/979.txt\n",
            "./calls4fam_0522/5/953.txt\n",
            "./calls4fam_0522/5/985.txt\n",
            "./calls4fam_0522/5/976.txt\n",
            "./calls4fam_0522/5/1118.txt\n",
            "./calls4fam_0522/5/1104.txt\n",
            "./calls4fam_0522/5/1037.txt\n",
            "./calls4fam_0522/5/1136.txt\n",
            "./calls4fam_0522/5/1113.txt\n",
            "./calls4fam_0522/5/1087.txt\n",
            "./calls4fam_0522/5/1097.txt\n",
            "./calls4fam_0522/5/1036.txt\n",
            "./calls4fam_0522/5/1078.txt\n",
            "./calls4fam_0522/5/1174.txt\n",
            "./calls4fam_0522/5/1001.txt\n",
            "./calls4fam_0522/5/962.txt\n",
            "./calls4fam_0522/5/959.txt\n",
            "./calls4fam_0522/5/939.txt\n",
            "./calls4fam_0522/5/1042.txt\n",
            "./calls4fam_0522/5/1035.txt\n",
            "./calls4fam_0522/5/1076.txt\n",
            "./calls4fam_0522/5/1208.txt\n",
            "./calls4fam_0522/5/1201.txt\n",
            "./calls4fam_0522/5/1053.txt\n",
            "./calls4fam_0522/5/1146.txt\n",
            "./calls4fam_0522/5/986.txt\n",
            "./calls4fam_0522/5/920.txt\n",
            "./calls4fam_0522/5/1068.txt\n",
            "./calls4fam_0522/5/1039.txt\n",
            "./calls4fam_0522/5/1135.txt\n",
            "./calls4fam_0522/5/1147.txt\n",
            "./calls4fam_0522/5/1140.txt\n",
            "./calls4fam_0522/5/1163.txt\n",
            "./calls4fam_0522/5/958.txt\n",
            "./calls4fam_0522/5/1106.txt\n",
            "./calls4fam_0522/5/1028.txt\n",
            "./calls4fam_0522/5/1002.txt\n",
            "./calls4fam_0522/5/1057.txt\n",
            "./calls4fam_0522/5/1184.txt\n",
            "./calls4fam_0522/5/930.txt\n",
            "./calls4fam_0522/5/1164.txt\n",
            "./calls4fam_0522/5/946.txt\n",
            "./calls4fam_0522/5/919.txt\n",
            "./calls4fam_0522/5/990.txt\n",
            "./calls4fam_0522/5/915.txt\n",
            "./calls4fam_0522/5/982.txt\n",
            "./calls4fam_0522/5/1153.txt\n",
            "./calls4fam_0522/5/1182.txt\n",
            "./calls4fam_0522/5/1138.txt\n",
            "./calls4fam_0522/5/993.txt\n",
            "./calls4fam_0522/5/925.txt\n",
            "./calls4fam_0522/5/1084.txt\n",
            "./calls4fam_0522/5/1139.txt\n",
            "./calls4fam_0522/5/1083.txt\n",
            "./calls4fam_0522/5/1075.txt\n",
            "./calls4fam_0522/5/1150.txt\n",
            "./calls4fam_0522/5/964.txt\n",
            "./calls4fam_0522/5/1111.txt\n",
            "./calls4fam_0522/5/1038.txt\n",
            "./calls4fam_0522/5/1123.txt\n",
            "./calls4fam_0522/5/911.txt\n",
            "./calls4fam_0522/5/1032.txt\n",
            "./calls4fam_0522/5/1015.txt\n",
            "./calls4fam_0522/5/1112.txt\n",
            "./calls4fam_0522/5/1011.txt\n",
            "./calls4fam_0522/5/960.txt\n",
            "./calls4fam_0522/5/907.txt\n",
            "./calls4fam_0522/5/1165.txt\n",
            "./calls4fam_0522/5/981.txt\n",
            "./calls4fam_0522/5/1155.txt\n",
            "./calls4fam_0522/5/1093.txt\n",
            "./calls4fam_0522/5/1024.txt\n",
            "./calls4fam_0522/5/1202.txt\n",
            "./calls4fam_0522/5/1019.txt\n",
            "./calls4fam_0522/5/1190.txt\n",
            "./calls4fam_0522/5/1199.txt\n",
            "./calls4fam_0522/5/970.txt\n",
            "./calls4fam_0522/5/1141.txt\n",
            "./calls4fam_0522/5/1012.txt\n",
            "./calls4fam_0522/5/1098.txt\n",
            "./calls4fam_0522/5/1194.txt\n",
            "./calls4fam_0522/5/1094.txt\n",
            "./calls4fam_0522/5/998.txt\n",
            "./calls4fam_0522/5/1090.txt\n",
            "./calls4fam_0522/5/1152.txt\n",
            "./calls4fam_0522/5/1204.txt\n",
            "./calls4fam_0522/5/938.txt\n",
            "./calls4fam_0522/5/1144.txt\n",
            "./calls4fam_0522/5/1074.txt\n",
            "./calls4fam_0522/5/1091.txt\n",
            "./calls4fam_0522/5/1069.txt\n",
            "./calls4fam_0522/5/1026.txt\n",
            "./calls4fam_0522/5/1206.txt\n",
            "./calls4fam_0522/5/1181.txt\n",
            "./calls4fam_0522/5/1148.txt\n",
            "./calls4fam_0522/5/1192.txt\n",
            "./calls4fam_0522/5/975.txt\n",
            "./calls4fam_0522/5/963.txt\n",
            "./calls4fam_0522/5/988.txt\n",
            "./calls4fam_0522/5/1185.txt\n",
            "./calls4fam_0522/5/1115.txt\n",
            "./calls4fam_0522/5/1000.txt\n",
            "./calls4fam_0522/5/1134.txt\n",
            "./calls4fam_0522/5/968.txt\n",
            "./calls4fam_0522/5/1059.txt\n",
            "./calls4fam_0522/5/929.txt\n",
            "./calls4fam_0522/5/1101.txt\n",
            "./calls4fam_0522/5/1017.txt\n",
            "./calls4fam_0522/5/1040.txt\n",
            "./calls4fam_0522/5/1008.txt\n",
            "./calls4fam_0522/5/1022.txt\n",
            "./calls4fam_0522/5/908.txt\n",
            "./calls4fam_0522/5/1029.txt\n",
            "./calls4fam_0522/5/935.txt\n",
            "./calls4fam_0522/5/1200.txt\n",
            "./calls4fam_0522/5/1099.txt\n",
            "./calls4fam_0522/5/1198.txt\n",
            "./calls4fam_0522/5/1168.txt\n",
            "./calls4fam_0522/5/937.txt\n",
            "./calls4fam_0522/5/1119.txt\n",
            "./calls4fam_0522/5/1060.txt\n",
            "./calls4fam_0522/5/1096.txt\n",
            "./calls4fam_0522/5/1124.txt\n",
            "./calls4fam_0522/5/1187.txt\n",
            "./calls4fam_0522/5/973.txt\n",
            "./calls4fam_0522/5/1156.txt\n",
            "./calls4fam_0522/5/1173.txt\n",
            "./calls4fam_0522/5/1109.txt\n",
            "./calls4fam_0522/5/1016.txt\n",
            "./calls4fam_0522/5/1154.txt\n",
            "./calls4fam_0522/5/910.txt\n",
            "./calls4fam_0522/5/1070.txt\n",
            "./calls4fam_0522/5/1100.txt\n",
            "./calls4fam_0522/5/956.txt\n",
            "./calls4fam_0522/5/1089.txt\n",
            "./calls4fam_0522/5/1197.txt\n",
            "./calls4fam_0522/5/1007.txt\n",
            "./calls4fam_0522/5/940.txt\n",
            "./calls4fam_0522/5/1085.txt\n",
            "./calls4fam_0522/5/1005.txt\n",
            "./calls4fam_0522/5/1130.txt\n",
            "./calls4fam_0522/5/971.txt\n",
            "./calls4fam_0522/5/1193.txt\n",
            "./calls4fam_0522/5/1079.txt\n",
            "./calls4fam_0522/5/1066.txt\n",
            "./calls4fam_0522/0/\n",
            "./calls4fam_0522/0/148.txt\n",
            "./calls4fam_0522/0/295.txt\n",
            "./calls4fam_0522/0/251.txt\n",
            "./calls4fam_0522/0/51.txt\n",
            "./calls4fam_0522/0/79.txt\n",
            "./calls4fam_0522/0/50.txt\n",
            "./calls4fam_0522/0/231.txt\n",
            "./calls4fam_0522/0/83.txt\n",
            "./calls4fam_0522/0/197.txt\n",
            "./calls4fam_0522/0/178.txt\n",
            "./calls4fam_0522/0/44.txt\n",
            "./calls4fam_0522/0/246.txt\n",
            "./calls4fam_0522/0/290.txt\n",
            "./calls4fam_0522/0/36.txt\n",
            "./calls4fam_0522/0/248.txt\n",
            "./calls4fam_0522/0/46.txt\n",
            "./calls4fam_0522/0/42.txt\n",
            "./calls4fam_0522/0/98.txt\n",
            "./calls4fam_0522/0/234.txt\n",
            "./calls4fam_0522/0/182.txt\n",
            "./calls4fam_0522/0/108.txt\n",
            "./calls4fam_0522/0/59.txt\n",
            "./calls4fam_0522/0/152.txt\n",
            "./calls4fam_0522/0/25.txt\n",
            "./calls4fam_0522/0/136.txt\n",
            "./calls4fam_0522/0/69.txt\n",
            "./calls4fam_0522/0/22.txt\n",
            "./calls4fam_0522/0/14.txt\n",
            "./calls4fam_0522/0/131.txt\n",
            "./calls4fam_0522/0/110.txt\n",
            "./calls4fam_0522/0/302.txt\n",
            "./calls4fam_0522/0/39.txt\n",
            "./calls4fam_0522/0/115.txt\n",
            "./calls4fam_0522/0/223.txt\n",
            "./calls4fam_0522/0/204.txt\n",
            "./calls4fam_0522/0/40.txt\n",
            "./calls4fam_0522/0/82.txt\n",
            "./calls4fam_0522/0/156.txt\n",
            "./calls4fam_0522/0/226.txt\n",
            "./calls4fam_0522/0/232.txt\n",
            "./calls4fam_0522/0/109.txt\n",
            "./calls4fam_0522/0/8.txt\n",
            "./calls4fam_0522/0/177.txt\n",
            "./calls4fam_0522/0/134.txt\n",
            "./calls4fam_0522/0/233.txt\n",
            "./calls4fam_0522/0/10.txt\n",
            "./calls4fam_0522/0/99.txt\n",
            "./calls4fam_0522/0/298.txt\n",
            "./calls4fam_0522/0/159.txt\n",
            "./calls4fam_0522/0/16.txt\n",
            "./calls4fam_0522/0/154.txt\n",
            "./calls4fam_0522/0/144.txt\n",
            "./calls4fam_0522/0/281.txt\n",
            "./calls4fam_0522/0/85.txt\n",
            "./calls4fam_0522/0/95.txt\n",
            "./calls4fam_0522/0/262.txt\n",
            "./calls4fam_0522/0/230.txt\n",
            "./calls4fam_0522/0/37.txt\n",
            "./calls4fam_0522/0/258.txt\n",
            "./calls4fam_0522/0/198.txt\n",
            "./calls4fam_0522/0/135.txt\n",
            "./calls4fam_0522/0/180.txt\n",
            "./calls4fam_0522/0/270.txt\n",
            "./calls4fam_0522/0/176.txt\n",
            "./calls4fam_0522/0/291.txt\n",
            "./calls4fam_0522/0/160.txt\n",
            "./calls4fam_0522/0/282.txt\n",
            "./calls4fam_0522/0/166.txt\n",
            "./calls4fam_0522/0/32.txt\n",
            "./calls4fam_0522/0/150.txt\n",
            "./calls4fam_0522/0/143.txt\n",
            "./calls4fam_0522/0/106.txt\n",
            "./calls4fam_0522/0/285.txt\n",
            "./calls4fam_0522/0/121.txt\n",
            "./calls4fam_0522/0/219.txt\n",
            "./calls4fam_0522/0/87.txt\n",
            "./calls4fam_0522/0/9.txt\n",
            "./calls4fam_0522/0/255.txt\n",
            "./calls4fam_0522/0/101.txt\n",
            "./calls4fam_0522/0/172.txt\n",
            "./calls4fam_0522/0/186.txt\n",
            "./calls4fam_0522/0/238.txt\n",
            "./calls4fam_0522/0/185.txt\n",
            "./calls4fam_0522/0/277.txt\n",
            "./calls4fam_0522/0/263.txt\n",
            "./calls4fam_0522/0/191.txt\n",
            "./calls4fam_0522/0/196.txt\n",
            "./calls4fam_0522/0/173.txt\n",
            "./calls4fam_0522/0/65.txt\n",
            "./calls4fam_0522/0/104.txt\n",
            "./calls4fam_0522/0/89.txt\n",
            "./calls4fam_0522/0/192.txt\n",
            "./calls4fam_0522/0/102.txt\n",
            "./calls4fam_0522/0/205.txt\n",
            "./calls4fam_0522/0/73.txt\n",
            "./calls4fam_0522/0/86.txt\n",
            "./calls4fam_0522/0/188.txt\n",
            "./calls4fam_0522/0/299.txt\n",
            "./calls4fam_0522/0/5.txt\n",
            "./calls4fam_0522/0/15.txt\n",
            "./calls4fam_0522/0/164.txt\n",
            "./calls4fam_0522/0/103.txt\n",
            "./calls4fam_0522/0/208.txt\n",
            "./calls4fam_0522/0/229.txt\n",
            "./calls4fam_0522/0/158.txt\n",
            "./calls4fam_0522/0/90.txt\n",
            "./calls4fam_0522/0/11.txt\n",
            "./calls4fam_0522/0/266.txt\n",
            "./calls4fam_0522/0/228.txt\n",
            "./calls4fam_0522/0/111.txt\n",
            "./calls4fam_0522/0/254.txt\n",
            "./calls4fam_0522/0/162.txt\n",
            "./calls4fam_0522/0/245.txt\n",
            "./calls4fam_0522/0/117.txt\n",
            "./calls4fam_0522/0/239.txt\n",
            "./calls4fam_0522/0/169.txt\n",
            "./calls4fam_0522/0/57.txt\n",
            "./calls4fam_0522/0/240.txt\n",
            "./calls4fam_0522/0/52.txt\n",
            "./calls4fam_0522/0/184.txt\n",
            "./calls4fam_0522/0/125.txt\n",
            "./calls4fam_0522/0/217.txt\n",
            "./calls4fam_0522/0/3.txt\n",
            "./calls4fam_0522/0/64.txt\n",
            "./calls4fam_0522/0/203.txt\n",
            "./calls4fam_0522/0/66.txt\n",
            "./calls4fam_0522/0/260.txt\n",
            "./calls4fam_0522/0/195.txt\n",
            "./calls4fam_0522/0/210.txt\n",
            "./calls4fam_0522/0/76.txt\n",
            "./calls4fam_0522/0/288.txt\n",
            "./calls4fam_0522/0/190.txt\n",
            "./calls4fam_0522/0/167.txt\n",
            "./calls4fam_0522/0/267.txt\n",
            "./calls4fam_0522/0/4.txt\n",
            "./calls4fam_0522/0/241.txt\n",
            "./calls4fam_0522/0/283.txt\n",
            "./calls4fam_0522/0/29.txt\n",
            "./calls4fam_0522/0/247.txt\n",
            "./calls4fam_0522/0/27.txt\n",
            "./calls4fam_0522/0/20.txt\n",
            "./calls4fam_0522/0/70.txt\n",
            "./calls4fam_0522/0/58.txt\n",
            "./calls4fam_0522/0/296.txt\n",
            "./calls4fam_0522/0/249.txt\n",
            "./calls4fam_0522/0/287.txt\n",
            "./calls4fam_0522/0/211.txt\n",
            "./calls4fam_0522/0/17.txt\n",
            "./calls4fam_0522/0/175.txt\n",
            "./calls4fam_0522/0/47.txt\n",
            "./calls4fam_0522/0/100.txt\n",
            "./calls4fam_0522/0/293.txt\n",
            "./calls4fam_0522/0/18.txt\n",
            "./calls4fam_0522/0/112.txt\n",
            "./calls4fam_0522/0/271.txt\n",
            "./calls4fam_0522/0/170.txt\n",
            "./calls4fam_0522/0/213.txt\n",
            "./calls4fam_0522/0/301.txt\n",
            "./calls4fam_0522/0/161.txt\n",
            "./calls4fam_0522/0/92.txt\n",
            "./calls4fam_0522/0/193.txt\n",
            "./calls4fam_0522/0/128.txt\n",
            "./calls4fam_0522/0/114.txt\n",
            "./calls4fam_0522/0/138.txt\n",
            "./calls4fam_0522/0/224.txt\n",
            "./calls4fam_0522/0/48.txt\n",
            "./calls4fam_0522/0/60.txt\n",
            "./calls4fam_0522/0/206.txt\n",
            "./calls4fam_0522/0/153.txt\n",
            "./calls4fam_0522/0/31.txt\n",
            "./calls4fam_0522/0/151.txt\n",
            "./calls4fam_0522/0/56.txt\n",
            "./calls4fam_0522/0/294.txt\n",
            "./calls4fam_0522/0/140.txt\n",
            "./calls4fam_0522/0/215.txt\n",
            "./calls4fam_0522/0/279.txt\n",
            "./calls4fam_0522/0/300.txt\n",
            "./calls4fam_0522/0/94.txt\n",
            "./calls4fam_0522/0/222.txt\n",
            "./calls4fam_0522/0/6.txt\n",
            "./calls4fam_0522/0/133.txt\n",
            "./calls4fam_0522/0/181.txt\n",
            "./calls4fam_0522/0/216.txt\n",
            "./calls4fam_0522/0/41.txt\n",
            "./calls4fam_0522/0/81.txt\n",
            "./calls4fam_0522/0/264.txt\n",
            "./calls4fam_0522/0/67.txt\n",
            "./calls4fam_0522/0/78.txt\n",
            "./calls4fam_0522/0/137.txt\n",
            "./calls4fam_0522/0/200.txt\n",
            "./calls4fam_0522/0/113.txt\n",
            "./calls4fam_0522/0/244.txt\n",
            "./calls4fam_0522/0/273.txt\n",
            "./calls4fam_0522/0/2.txt\n",
            "./calls4fam_0522/0/74.txt\n",
            "./calls4fam_0522/0/214.txt\n",
            "./calls4fam_0522/0/19.txt\n",
            "./calls4fam_0522/0/53.txt\n",
            "./calls4fam_0522/0/212.txt\n",
            "./calls4fam_0522/0/145.txt\n",
            "./calls4fam_0522/0/236.txt\n",
            "./calls4fam_0522/0/55.txt\n",
            "./calls4fam_0522/0/278.txt\n",
            "./calls4fam_0522/0/139.txt\n",
            "./calls4fam_0522/0/126.txt\n",
            "./calls4fam_0522/0/61.txt\n",
            "./calls4fam_0522/0/141.txt\n",
            "./calls4fam_0522/0/261.txt\n",
            "./calls4fam_0522/0/107.txt\n",
            "./calls4fam_0522/0/26.txt\n",
            "./calls4fam_0522/0/157.txt\n",
            "./calls4fam_0522/0/127.txt\n",
            "./calls4fam_0522/0/146.txt\n",
            "./calls4fam_0522/0/7.txt\n",
            "./calls4fam_0522/0/265.txt\n",
            "./calls4fam_0522/0/163.txt\n",
            "./calls4fam_0522/0/1.txt\n",
            "./calls4fam_0522/0/120.txt\n",
            "./calls4fam_0522/0/43.txt\n",
            "./calls4fam_0522/0/77.txt\n",
            "./calls4fam_0522/0/129.txt\n",
            "./calls4fam_0522/0/88.txt\n",
            "./calls4fam_0522/0/71.txt\n",
            "./calls4fam_0522/0/149.txt\n",
            "./calls4fam_0522/0/276.txt\n",
            "./calls4fam_0522/0/105.txt\n",
            "./calls4fam_0522/0/96.txt\n",
            "./calls4fam_0522/0/220.txt\n",
            "./calls4fam_0522/0/24.txt\n",
            "./calls4fam_0522/0/221.txt\n",
            "./calls4fam_0522/0/199.txt\n",
            "./calls4fam_0522/0/194.txt\n",
            "./calls4fam_0522/0/274.txt\n",
            "./calls4fam_0522/0/123.txt\n",
            "./calls4fam_0522/0/45.txt\n",
            "./calls4fam_0522/0/297.txt\n",
            "./calls4fam_0522/0/257.txt\n",
            "./calls4fam_0522/0/118.txt\n",
            "./calls4fam_0522/0/93.txt\n",
            "./calls4fam_0522/0/289.txt\n",
            "./calls4fam_0522/0/218.txt\n",
            "./calls4fam_0522/0/171.txt\n",
            "./calls4fam_0522/0/201.txt\n",
            "./calls4fam_0522/0/54.txt\n",
            "./calls4fam_0522/0/34.txt\n",
            "./calls4fam_0522/0/286.txt\n",
            "./calls4fam_0522/0/235.txt\n",
            "./calls4fam_0522/0/259.txt\n",
            "./calls4fam_0522/0/132.txt\n",
            "./calls4fam_0522/0/253.txt\n",
            "./calls4fam_0522/0/75.txt\n",
            "./calls4fam_0522/0/292.txt\n",
            "./calls4fam_0522/0/227.txt\n",
            "./calls4fam_0522/0/168.txt\n",
            "./calls4fam_0522/0/21.txt\n",
            "./calls4fam_0522/0/272.txt\n",
            "./calls4fam_0522/0/237.txt\n",
            "./calls4fam_0522/0/23.txt\n",
            "./calls4fam_0522/0/33.txt\n",
            "./calls4fam_0522/0/225.txt\n",
            "./calls4fam_0522/0/147.txt\n",
            "./calls4fam_0522/0/250.txt\n",
            "./calls4fam_0522/0/49.txt\n",
            "./calls4fam_0522/0/30.txt\n",
            "./calls4fam_0522/0/38.txt\n",
            "./calls4fam_0522/0/68.txt\n",
            "./calls4fam_0522/0/130.txt\n",
            "./calls4fam_0522/0/165.txt\n",
            "./calls4fam_0522/0/84.txt\n",
            "./calls4fam_0522/0/116.txt\n",
            "./calls4fam_0522/0/243.txt\n",
            "./calls4fam_0522/0/35.txt\n",
            "./calls4fam_0522/0/242.txt\n",
            "./calls4fam_0522/0/119.txt\n",
            "./calls4fam_0522/0/124.txt\n",
            "./calls4fam_0522/0/269.txt\n",
            "./calls4fam_0522/0/189.txt\n",
            "./calls4fam_0522/0/28.txt\n",
            "./calls4fam_0522/0/280.txt\n",
            "./calls4fam_0522/0/187.txt\n",
            "./calls4fam_0522/0/80.txt\n",
            "./calls4fam_0522/0/252.txt\n",
            "./calls4fam_0522/0/256.txt\n",
            "./calls4fam_0522/0/284.txt\n",
            "./calls4fam_0522/0/142.txt\n",
            "./calls4fam_0522/0/202.txt\n",
            "./calls4fam_0522/0/174.txt\n",
            "./calls4fam_0522/0/275.txt\n",
            "./calls4fam_0522/0/155.txt\n",
            "./calls4fam_0522/0/12.txt\n",
            "./calls4fam_0522/0/97.txt\n",
            "./calls4fam_0522/0/179.txt\n",
            "./calls4fam_0522/0/63.txt\n",
            "./calls4fam_0522/0/91.txt\n",
            "./calls4fam_0522/0/207.txt\n",
            "./calls4fam_0522/0/72.txt\n",
            "./calls4fam_0522/0/13.txt\n",
            "./calls4fam_0522/0/268.txt\n",
            "./calls4fam_0522/0/62.txt\n",
            "./calls4fam_0522/0/209.txt\n",
            "./calls4fam_0522/0/183.txt\n",
            "./calls4fam_0522/0/122.txt\n"
          ]
        }
      ]
    },
    {
      "cell_type": "code",
      "source": [
        "!ls -al calls4fam_0522"
      ],
      "metadata": {
        "colab": {
          "base_uri": "https://localhost:8080/"
        },
        "id": "7uaigo1MNwRH",
        "outputId": "cf1da070-bc50-4229-cd61-fd91ccb2b7d1"
      },
      "execution_count": 6,
      "outputs": [
        {
          "output_type": "stream",
          "name": "stdout",
          "text": [
            "total 56\n",
            "drwxr-xr-x 6 root root  4096 Feb 21 04:06 .\n",
            "drwxr-xr-x 1 root root  4096 May  4 12:48 ..\n",
            "drwxr-xr-x 2 root root 12288 Feb 21 04:06 0\n",
            "drwxr-xr-x 2 root root 12288 Feb 21 04:06 1\n",
            "drwxr-xr-x 2 root root 12288 Feb 21 04:06 2\n",
            "drwxr-xr-x 2 root root 12288 Feb 21 04:06 5\n"
          ]
        }
      ]
    },
    {
      "cell_type": "markdown",
      "source": [
        "### Transform to tf.Data by utils.text_dataset_from_directory"
      ],
      "metadata": {
        "id": "A-ggDSm9F6sM"
      }
    },
    {
      "cell_type": "code",
      "source": [
        "import tensorflow as tf\n",
        "from tensorflow.keras import utils\n",
        "import tensorflow_datasets as tfds"
      ],
      "metadata": {
        "id": "Ohz04Bj3JTUB"
      },
      "execution_count": 7,
      "outputs": []
    },
    {
      "cell_type": "code",
      "source": [
        "batch_size = 32\n",
        "seed = 42\n",
        "\n",
        "train_dataset = utils.text_dataset_from_directory(\n",
        "    save_dir, # from unziped dir\n",
        "    labels = \"inferred\", # labels are generated from the directory structure\n",
        "    label_mode = \"int\", # for sparse_categorical_crossentropy loss\n",
        "    batch_size = batch_size,\n",
        "    shuffle = True,\n",
        "    seed = seed,\n",
        "    validation_split = 0.2,\n",
        "    subset = 'training', # or 'validation' to get the val dataset\n",
        "    )"
      ],
      "metadata": {
        "colab": {
          "base_uri": "https://localhost:8080/"
        },
        "id": "0ZaTh4sXJZlY",
        "outputId": "e6afc9b0-c85e-4374-a0af-1eb775cab688"
      },
      "execution_count": 8,
      "outputs": [
        {
          "output_type": "stream",
          "name": "stdout",
          "text": [
            "Found 1208 files belonging to 4 classes.\n",
            "Using 967 files for training.\n"
          ]
        }
      ]
    },
    {
      "cell_type": "code",
      "source": [
        "val_dataset = utils.text_dataset_from_directory(\n",
        "    save_dir,\n",
        "    labels = \"inferred\",\n",
        "    label_mode = \"int\",\n",
        "    batch_size = batch_size,\n",
        "    shuffle = True,\n",
        "    seed = seed,\n",
        "    validation_split = 0.2,\n",
        "    subset = 'validation', # <----\n",
        "    )"
      ],
      "metadata": {
        "colab": {
          "base_uri": "https://localhost:8080/"
        },
        "id": "xbWHItTlPFT0",
        "outputId": "acb97ec4-1712-4225-9b80-d8ab85e49d06"
      },
      "execution_count": 9,
      "outputs": [
        {
          "output_type": "stream",
          "name": "stdout",
          "text": [
            "Found 1208 files belonging to 4 classes.\n",
            "Using 241 files for validation.\n"
          ]
        }
      ]
    },
    {
      "cell_type": "code",
      "source": [
        "train_dataset"
      ],
      "metadata": {
        "colab": {
          "base_uri": "https://localhost:8080/"
        },
        "id": "29b5iptKJgIh",
        "outputId": "f6c6f6e0-8888-4dbf-dbb7-d99d7f88c6ab"
      },
      "execution_count": 10,
      "outputs": [
        {
          "output_type": "execute_result",
          "data": {
            "text/plain": [
              "<_BatchDataset element_spec=(TensorSpec(shape=(None,), dtype=tf.string, name=None), TensorSpec(shape=(None,), dtype=tf.int32, name=None))>"
            ]
          },
          "metadata": {},
          "execution_count": 10
        }
      ]
    },
    {
      "cell_type": "code",
      "source": [
        "for example, label in train_dataset.take(1): # take 1 batch_size\n",
        "  for i in range(3): # print first 3\n",
        "    print('label: ', label[i].numpy())\n",
        "    print('text: ', example[i].numpy())"
      ],
      "metadata": {
        "id": "HVPXQmCaJkni"
      },
      "execution_count": null,
      "outputs": []
    },
    {
      "cell_type": "code",
      "source": [
        "# vocab size\n",
        "vocab_set = set()\n",
        "separator = ' '\n",
        "\n",
        "# classes\n",
        "class_set = set()"
      ],
      "metadata": {
        "id": "81PU9QkdTKvX"
      },
      "execution_count": 12,
      "outputs": []
    },
    {
      "cell_type": "code",
      "source": [
        "for text_batch, label_batch in train_dataset:\n",
        "  for idx in range(len(text_batch)):\n",
        "    # text\n",
        "    line = text_batch.numpy()[idx]\n",
        "    line = line.decode(\"utf-8\")\n",
        "    tokens = line.split(separator)\n",
        "    for token in tokens:\n",
        "      vocab_set.add(token)\n",
        "\n",
        "    # label\n",
        "    class_set.add(int(label_batch.numpy()[idx]))\n",
        "\n",
        "\n",
        "print(len(vocab_set))\n",
        "print(len(class_set))"
      ],
      "metadata": {
        "colab": {
          "base_uri": "https://localhost:8080/"
        },
        "id": "JcD7lxPEWKaR",
        "outputId": "82e040de-b06c-436d-a865-3b5238f63623"
      },
      "execution_count": 13,
      "outputs": [
        {
          "output_type": "stream",
          "name": "stdout",
          "text": [
            "121\n",
            "4\n"
          ]
        }
      ]
    },
    {
      "cell_type": "markdown",
      "source": [
        "### RNN\n",
        "\n",
        "Same as\n",
        "https://www.tensorflow.org/text/tutorials/text_classification_rnn"
      ],
      "metadata": {
        "id": "ZsuFFIDaO0Ey"
      }
    },
    {
      "cell_type": "code",
      "source": [
        "# RNN\n",
        "\n",
        "BATCH_SIZE = batch_size # same as TFDS\n",
        "VOCAB_SIZE = len(vocab_set) + 2 # one for \"\", one for [UNK]\n",
        "\n",
        "num_class = len(class_set)"
      ],
      "metadata": {
        "id": "b1zlmIFpQA4Z"
      },
      "execution_count": 14,
      "outputs": []
    },
    {
      "cell_type": "code",
      "source": [
        "encoder = tf.keras.layers.TextVectorization(max_tokens = VOCAB_SIZE)\n",
        "encoder.adapt(train_dataset.map(lambda text, label: text))"
      ],
      "metadata": {
        "id": "T9zYQfPEO-34"
      },
      "execution_count": 15,
      "outputs": []
    },
    {
      "cell_type": "code",
      "source": [
        "vocab = np.array(encoder.get_vocabulary())\n",
        "vocab[:20]"
      ],
      "metadata": {
        "colab": {
          "base_uri": "https://localhost:8080/"
        },
        "id": "E-lsQs8nQaBg",
        "outputId": "128027fb-8847-4a0f-92a3-5fb48c77a64b"
      },
      "execution_count": 16,
      "outputs": [
        {
          "output_type": "execute_result",
          "data": {
            "text/plain": [
              "array(['', '[UNK]', 'sendto', 'read', 'close', 'recvfrom', 'rtsigaction',\n",
              "       'nanosleep', 'open', 'rtsigprocmask', 'mmap2', 'fstat64',\n",
              "       'connect', 'mmap', 'munmap', 'mprotect', 'time', 'gettimeofday',\n",
              "       'setsockopt', 'access'], dtype='<U17')"
            ]
          },
          "metadata": {},
          "execution_count": 16
        }
      ]
    },
    {
      "cell_type": "code",
      "source": [
        "encoded_example = encoder(example)[:3].numpy()\n",
        "encoded_example"
      ],
      "metadata": {
        "colab": {
          "base_uri": "https://localhost:8080/"
        },
        "id": "JdJcF0e7hGxC",
        "outputId": "72cc0dbd-1e99-464d-c5a1-2dd8ec20c0b0"
      },
      "execution_count": 17,
      "outputs": [
        {
          "output_type": "execute_result",
          "data": {
            "text/plain": [
              "array([[ 6,  6,  9, ...,  0,  0,  0],\n",
              "       [37, 77,  6, ...,  0,  0,  0],\n",
              "       [57,  4, 30, ...,  0,  0,  0]])"
            ]
          },
          "metadata": {},
          "execution_count": 17
        }
      ]
    },
    {
      "cell_type": "code",
      "source": [
        "for n in range(3):\n",
        "  print(\"Original: \", example[n].numpy())\n",
        "  print(\"Round-trip: \", \" \".join(vocab[encoded_example[n]]))\n",
        "  print()"
      ],
      "metadata": {
        "colab": {
          "base_uri": "https://localhost:8080/"
        },
        "id": "PhoCyFlzhL8B",
        "outputId": "2fff4d0a-327e-4565-e252-cf7669a6ddef"
      },
      "execution_count": 18,
      "outputs": [
        {
          "output_type": "stream",
          "name": "stdout",
          "text": [
            "Original:  b'rt_sigaction rt_sigaction rt_sigprocmask execve brk access access openat fstat mmap close access openat read fstat mmap mmap mprotect mmap mmap close arch_prctl mprotect mprotect mprotect munmap getuid getgid getpid rt_sigaction geteuid brk brk getppid stat stat geteuid getegid rt_sigaction rt_sigaction rt_sigaction rt_sigaction stat stat stat stat stat stat clone wait4 SIGCHLD rt_sigreturn exit_group'\n",
            "Round-trip:  rtsigaction rtsigaction rtsigprocmask execve brk access access openat fstat mmap close access openat read fstat mmap mmap mprotect mmap mmap close archprctl mprotect mprotect mprotect munmap getuid getgid getpid rtsigaction geteuid brk brk getppid stat stat geteuid getegid rtsigaction rtsigaction rtsigaction rtsigaction stat stat stat stat stat stat clone wait4 sigchld rtsigreturn exitgroup                                                                                                                                                                                                                                                                                                                                                                                                                                                                                                                                                                                                                                                                                                                                                                                                                                                                                                                                                                                                                                                                                                                                                                                                                                                                                                                                                                                                                                                                                                                                                                                                                                                                                                                                                                                                                                                                                                                                                                                                                                                                                                                                                                                                                                                                                                                                                                                                                                                                                                                                                                                                                                                                                                                                                                                                                                                                                                                                                                                                                                                                                                                                                                                                                                                                                                                                                                                                                                                                                                                                                                                                                                                                                                                                                                                                                                                                                                                                                                                                                                                                                                                                                                                                                                                                                                                                                                                  \n",
            "\n",
            "Original:  b'getpid ugetrlimit rt_sigaction rt_sigaction rt_sigprocmask getpid ugetrlimit rt_sigaction rt_sigaction rt_sigaction execve brk access access openat fstat mmap close access openat read fstat mmap mmap mprotect mmap mmap close arch_prctl mprotect mprotect mprotect munmap getuid getgid getpid rt_sigaction geteuid brk brk getppid stat stat geteuid getegid rt_sigaction rt_sigaction rt_sigaction rt_sigaction stat stat stat stat stat stat clone wait4 SIGCHLD rt_sigreturn exit_group'\n",
            "Round-trip:  getpid ugetrlimit rtsigaction rtsigaction rtsigprocmask getpid ugetrlimit rtsigaction rtsigaction rtsigaction execve brk access access openat fstat mmap close access openat read fstat mmap mmap mprotect mmap mmap close archprctl mprotect mprotect mprotect munmap getuid getgid getpid rtsigaction geteuid brk brk getppid stat stat geteuid getegid rtsigaction rtsigaction rtsigaction rtsigaction stat stat stat stat stat stat clone wait4 sigchld rtsigreturn exitgroup                                                                                                                                                                                                                                                                                                                                                                                                                                                                                                                                                                                                                                                                                                                                                                                                                                                                                                                                                                                                                                                                                                                                                                                                                                                                                                                                                                                                                                                                                                                                                                                                                                                                                                                                                                                                                                                                                                                                                                                                                                                                                                                                                                                                                                                                                                                                                                                                                                                                                                                                                                                                                                                                                                                                                                                                                                                                                                                                                                                                                                                                                                                                                                                                                                                                                                                                                                                                                                                                                                                                                                                                                                                                                                                                                                                                                                                                                                                                                                                                                                                                                                                                                                                                                                                                                                                                                                           \n",
            "\n",
            "Original:  b'dup2 close execve brk access access openat fstat mmap close access openat read fstat mmap mmap mprotect mmap close access openat read fstat mmap mprotect mmap close access openat read fstat mmap mprotect mmap mmap close access openat read fstat mmap mprotect mmap mmap close mmap arch_prctl mprotect mprotect mprotect mprotect mprotect mprotect munmap set_tid_address set_robust_list rt_sigaction rt_sigaction rt_sigprocmask prlimit64 brk brk openat fstat mmap close openat fstat mmap close futex fstat stat fstat lseek read read close close exit_group'\n",
            "Round-trip:  dup2 close execve brk access access openat fstat mmap close access openat read fstat mmap mmap mprotect mmap close access openat read fstat mmap mprotect mmap close access openat read fstat mmap mprotect mmap mmap close access openat read fstat mmap mprotect mmap mmap close mmap archprctl mprotect mprotect mprotect mprotect mprotect mprotect munmap settidaddress setrobustlist rtsigaction rtsigaction rtsigprocmask prlimit64 brk brk openat fstat mmap close openat fstat mmap close futex fstat stat fstat lseek read read close close exitgroup                                                                                                                                                                                                                                                                                                                                                                                                                                                                                                                                                                                                                                                                                                                                                                                                                                                                                                                                                                                                                                                                                                                                                                                                                                                                                                                                                                                                                                                                                                                                                                                                                                                                                                                                                                                                                                                                                                                                                                                                                                                                                                                                                                                                                                                                                                                                                                                                                                                                                                                                                                                                                                                                                                                                                                                                                                                                                                                                                                                                                                                                                                                                                                                                                                                                                                                                                                                                                                                                                                                                                                                                                                                                                                                                                                                                                                                                                                                                                                                                                                                                                                                                                                                                                                                                                                                                                       \n",
            "\n"
          ]
        }
      ]
    },
    {
      "cell_type": "code",
      "source": [
        "model = tf.keras.Sequential([\n",
        "    encoder,\n",
        "    tf.keras.layers.Embedding(\n",
        "        input_dim = len(encoder.get_vocabulary()),\n",
        "        output_dim = 64,\n",
        "        # Use masking to handle the variable sequence lengths\n",
        "        mask_zero = True),\n",
        "    # Now, try to design your RNN\n",
        "    # tf.keras.layers.Bidirectional(tf.keras.layers.LSTM(64, return_sequences=True)), # complex nn\n",
        "    tf.keras.layers.Bidirectional(tf.keras.layers.LSTM(64)), # 64, change to 32 if complex nn used\n",
        "    tf.keras.layers.Dense(64, activation='relu'),\n",
        "    # tf.keras.layers.Dropout(0.5), # complex nn\n",
        "    tf.keras.layers.Dense(num_class, activation='softmax') # from_logits=False, SparseCategoricalCrossentropy\n",
        "])"
      ],
      "metadata": {
        "id": "4YF4J6Zlhl8G"
      },
      "execution_count": 19,
      "outputs": []
    },
    {
      "cell_type": "code",
      "source": [
        "# print your model\n",
        "model.summary()"
      ],
      "metadata": {
        "id": "wtmla4u2Clpg",
        "colab": {
          "base_uri": "https://localhost:8080/"
        },
        "outputId": "26e9074e-035a-46f2-f881-341c0fac1180"
      },
      "execution_count": 20,
      "outputs": [
        {
          "output_type": "stream",
          "name": "stdout",
          "text": [
            "Model: \"sequential\"\n",
            "_________________________________________________________________\n",
            " Layer (type)                Output Shape              Param #   \n",
            "=================================================================\n",
            " text_vectorization (TextVe  (None, None)              0         \n",
            " ctorization)                                                    \n",
            "                                                                 \n",
            " embedding (Embedding)       (None, None, 64)          7872      \n",
            "                                                                 \n",
            " bidirectional (Bidirection  (None, 128)               66048     \n",
            " al)                                                             \n",
            "                                                                 \n",
            " dense (Dense)               (None, 64)                8256      \n",
            "                                                                 \n",
            " dense_1 (Dense)             (None, 4)                 260       \n",
            "                                                                 \n",
            "=================================================================\n",
            "Total params: 82436 (322.02 KB)\n",
            "Trainable params: 82436 (322.02 KB)\n",
            "Non-trainable params: 0 (0.00 Byte)\n",
            "_________________________________________________________________\n"
          ]
        }
      ]
    },
    {
      "cell_type": "code",
      "source": [
        "print([layer.supports_masking for layer in model.layers])"
      ],
      "metadata": {
        "colab": {
          "base_uri": "https://localhost:8080/"
        },
        "id": "Jh1yyDXDjAsP",
        "outputId": "d416af61-da64-41bb-919a-7fd1c551f43b"
      },
      "execution_count": 21,
      "outputs": [
        {
          "output_type": "stream",
          "name": "stdout",
          "text": [
            "[False, True, True, True, True]\n"
          ]
        }
      ]
    },
    {
      "cell_type": "code",
      "source": [
        "model.compile(loss=tf.keras.losses.SparseCategoricalCrossentropy(from_logits=False),\n",
        "              optimizer=tf.keras.optimizers.Adam(1e-4),\n",
        "              metrics=['accuracy'])"
      ],
      "metadata": {
        "id": "3ANym7ecjChh"
      },
      "execution_count": 22,
      "outputs": []
    },
    {
      "cell_type": "code",
      "source": [
        "history = model.fit(train_dataset, epochs=10,\n",
        "                    validation_data = val_dataset, # isn't it cheating?\n",
        "                    )"
      ],
      "metadata": {
        "colab": {
          "base_uri": "https://localhost:8080/"
        },
        "id": "0r2vtbWvj3_c",
        "outputId": "b6a071b0-637c-4a9d-8f70-a3ee2bcc39ac"
      },
      "execution_count": 23,
      "outputs": [
        {
          "output_type": "stream",
          "name": "stdout",
          "text": [
            "Epoch 1/10\n",
            "31/31 [==============================] - 22s 368ms/step - loss: 1.3789 - accuracy: 0.3588 - val_loss: 1.3696 - val_accuracy: 0.6017\n",
            "Epoch 2/10\n",
            "31/31 [==============================] - 7s 234ms/step - loss: 1.3600 - accuracy: 0.5977 - val_loss: 1.3456 - val_accuracy: 0.6763\n",
            "Epoch 3/10\n",
            "31/31 [==============================] - 6s 185ms/step - loss: 1.3283 - accuracy: 0.6763 - val_loss: 1.2965 - val_accuracy: 0.7801\n",
            "Epoch 4/10\n",
            "31/31 [==============================] - 7s 215ms/step - loss: 1.2239 - accuracy: 0.7477 - val_loss: 1.0922 - val_accuracy: 0.7012\n",
            "Epoch 5/10\n",
            "31/31 [==============================] - 6s 186ms/step - loss: 1.0455 - accuracy: 0.6743 - val_loss: 0.8411 - val_accuracy: 0.7178\n",
            "Epoch 6/10\n",
            "31/31 [==============================] - 6s 198ms/step - loss: 0.7783 - accuracy: 0.6743 - val_loss: 0.6462 - val_accuracy: 0.6971\n",
            "Epoch 7/10\n",
            "31/31 [==============================] - 6s 208ms/step - loss: 0.6747 - accuracy: 0.7477 - val_loss: 0.5757 - val_accuracy: 0.8506\n",
            "Epoch 8/10\n",
            "31/31 [==============================] - 7s 214ms/step - loss: 0.6104 - accuracy: 0.7477 - val_loss: 0.5564 - val_accuracy: 0.8133\n",
            "Epoch 9/10\n",
            "31/31 [==============================] - 6s 187ms/step - loss: 0.5898 - accuracy: 0.7870 - val_loss: 0.5262 - val_accuracy: 0.8216\n",
            "Epoch 10/10\n",
            "31/31 [==============================] - 6s 198ms/step - loss: 0.5770 - accuracy: 0.7828 - val_loss: 0.5008 - val_accuracy: 0.8174\n"
          ]
        }
      ]
    },
    {
      "cell_type": "code",
      "source": [
        "# use val_dataset as testing dataset\n",
        "test_loss, test_acc = model.evaluate(val_dataset)\n",
        "\n",
        "print('Test Loss:', test_loss)\n",
        "print('Test Accuracy:', test_acc)"
      ],
      "metadata": {
        "colab": {
          "base_uri": "https://localhost:8080/"
        },
        "id": "ERs1GWoXkDB6",
        "outputId": "eca7daf2-8f4d-4109-b01c-6690c630a2b8"
      },
      "execution_count": 24,
      "outputs": [
        {
          "output_type": "stream",
          "name": "stdout",
          "text": [
            "8/8 [==============================] - 1s 73ms/step - loss: 0.5008 - accuracy: 0.8174\n",
            "Test Loss: 0.5007505416870117\n",
            "Test Accuracy: 0.817427396774292\n"
          ]
        }
      ]
    },
    {
      "cell_type": "code",
      "source": [
        "import matplotlib.pyplot as plt\n",
        "\n",
        "def plot_graphs(history, metric):\n",
        "  plt.plot(history.history[metric])\n",
        "  plt.plot(history.history['val_'+metric])\n",
        "  plt.xlabel(\"Epochs\")\n",
        "  plt.ylabel(metric)\n",
        "  plt.legend([metric, 'val_'+metric])"
      ],
      "metadata": {
        "id": "ta8dJHEAJoab"
      },
      "execution_count": 25,
      "outputs": []
    },
    {
      "cell_type": "code",
      "source": [
        "plt.figure(figsize=(16, 8))\n",
        "plt.subplot(1, 2, 1)\n",
        "plot_graphs(history, 'accuracy')\n",
        "plt.ylim(0.0, 1.0)\n",
        "plt.subplot(1, 2, 2)\n",
        "plot_graphs(history, 'loss')"
      ],
      "metadata": {
        "colab": {
          "base_uri": "https://localhost:8080/",
          "height": 597
        },
        "id": "dE8UIklukNEx",
        "outputId": "583114a1-67de-4759-9d8a-32cdf2df433d"
      },
      "execution_count": 26,
      "outputs": [
        {
          "output_type": "display_data",
          "data": {
            "text/plain": [
              "<Figure size 1600x800 with 2 Axes>"
            ],
            "image/png": "[encoded data removed]"
          },
          "metadata": {}
        }
      ]
    },
    {
      "cell_type": "markdown",
      "source": [
        "#Question"
      ],
      "metadata": {
        "id": "rxOqzjjXXE4k"
      }
    },
    {
      "cell_type": "markdown",
      "source": [
        "## Q1\n",
        "\n",
        "Change the rnn structure and make the accuracy better."
      ],
      "metadata": {
        "id": "ZO6jA2pTW7vt"
      }
    },
    {
      "cell_type": "markdown",
      "source": [
        "### Q1-1\n",
        "\n",
        "Show your model summary."
      ],
      "metadata": {
        "id": "byEuhMNkXP60"
      }
    },
    {
      "cell_type": "code",
      "source": [
        "model = tf.keras.Sequential([\n",
        "    encoder,\n",
        "    tf.keras.layers.Embedding(\n",
        "        input_dim = len(encoder.get_vocabulary()),\n",
        "        output_dim = 128, #Chanhe it\n",
        "        # Use masking to handle the variable sequence lengths\n",
        "        mask_zero = True),\n",
        "    # Now, try to design your RNN\n",
        "    # tf.keras.layers.Bidirectional(tf.keras.layers.LSTM(64, return_sequences=True)), # complex nn\n",
        "    tf.keras.layers.Bidirectional(tf.keras.layers.LSTM(128)), # 64, change to 32 if complex nn used\n",
        "    tf.keras.layers.Dense(128, activation='relu'),\n",
        "    tf.keras.layers.Dropout(0.5), # complex nn\n",
        "    tf.keras.layers.Dense(num_class, activation='softmax') # from_logits=False, SparseCategoricalCrossentropy\n",
        "])\n",
        "\n",
        "model.compile(loss=tf.keras.losses.SparseCategoricalCrossentropy(from_logits=False),\n",
        "              optimizer=tf.keras.optimizers.Adam(1e-4),\n",
        "              metrics=['accuracy'])\n",
        "\n",
        "\n",
        "history = model.fit(train_dataset, epochs=15,\n",
        "                    validation_data = val_dataset, # isn't it cheating?\n",
        "                    )\n",
        "\n"
      ],
      "metadata": {
        "colab": {
          "base_uri": "https://localhost:8080/"
        },
        "id": "hQa9Ud6nsyIf",
        "outputId": "766b8605-0aaf-42c8-9e07-18c67ed14d13"
      },
      "execution_count": 68,
      "outputs": [
        {
          "output_type": "stream",
          "name": "stdout",
          "text": [
            "Epoch 1/15\n",
            "31/31 [==============================] - 22s 373ms/step - loss: 1.3680 - accuracy: 0.5274 - val_loss: 1.3434 - val_accuracy: 0.7676\n",
            "Epoch 2/15\n",
            "31/31 [==============================] - 7s 235ms/step - loss: 1.3072 - accuracy: 0.7156 - val_loss: 1.2311 - val_accuracy: 0.8050\n",
            "Epoch 3/15\n",
            "31/31 [==============================] - 8s 247ms/step - loss: 1.1130 - accuracy: 0.7198 - val_loss: 0.9815 - val_accuracy: 0.7303\n",
            "Epoch 4/15\n",
            "31/31 [==============================] - 7s 240ms/step - loss: 0.9009 - accuracy: 0.6629 - val_loss: 0.7463 - val_accuracy: 0.7884\n",
            "Epoch 5/15\n",
            "31/31 [==============================] - 6s 206ms/step - loss: 0.7497 - accuracy: 0.6980 - val_loss: 0.6111 - val_accuracy: 0.8050\n",
            "Epoch 6/15\n",
            "31/31 [==============================] - 7s 217ms/step - loss: 0.6542 - accuracy: 0.6805 - val_loss: 0.5510 - val_accuracy: 0.7925\n",
            "Epoch 7/15\n",
            "31/31 [==============================] - 7s 230ms/step - loss: 0.6047 - accuracy: 0.7104 - val_loss: 0.5616 - val_accuracy: 0.8091\n",
            "Epoch 8/15\n",
            "31/31 [==============================] - 7s 232ms/step - loss: 0.5990 - accuracy: 0.7229 - val_loss: 0.5318 - val_accuracy: 0.8257\n",
            "Epoch 9/15\n",
            "31/31 [==============================] - 7s 205ms/step - loss: 0.5932 - accuracy: 0.7270 - val_loss: 0.5205 - val_accuracy: 0.8091\n",
            "Epoch 10/15\n",
            "31/31 [==============================] - 7s 228ms/step - loss: 0.6096 - accuracy: 0.7311 - val_loss: 0.5616 - val_accuracy: 0.8797\n",
            "Epoch 11/15\n",
            "31/31 [==============================] - 8s 257ms/step - loss: 0.5916 - accuracy: 0.7508 - val_loss: 0.5091 - val_accuracy: 0.7884\n",
            "Epoch 12/15\n",
            "31/31 [==============================] - 7s 212ms/step - loss: 0.5574 - accuracy: 0.7601 - val_loss: 0.4807 - val_accuracy: 0.8257\n",
            "Epoch 13/15\n",
            "31/31 [==============================] - 7s 216ms/step - loss: 0.5473 - accuracy: 0.7394 - val_loss: 0.4622 - val_accuracy: 0.8257\n",
            "Epoch 14/15\n",
            "31/31 [==============================] - 7s 230ms/step - loss: 0.5290 - accuracy: 0.7777 - val_loss: 0.4411 - val_accuracy: 0.8216\n",
            "Epoch 15/15\n",
            "31/31 [==============================] - 6s 193ms/step - loss: 0.5088 - accuracy: 0.7839 - val_loss: 0.4137 - val_accuracy: 0.8257\n"
          ]
        }
      ]
    },
    {
      "cell_type": "code",
      "source": [
        "# use val_dataset as testing dataset\n",
        "test_loss, test_acc = model.evaluate(val_dataset)\n",
        "\n",
        "print('Test Loss:', test_loss)\n",
        "print('Test Accuracy:', test_acc)"
      ],
      "metadata": {
        "colab": {
          "base_uri": "https://localhost:8080/"
        },
        "id": "okSpzA35uEH-",
        "outputId": "dfa8262f-171f-4c04-bf15-3df28411035f"
      },
      "execution_count": 69,
      "outputs": [
        {
          "output_type": "stream",
          "name": "stdout",
          "text": [
            "8/8 [==============================] - 1s 86ms/step - loss: 0.4137 - accuracy: 0.8257\n",
            "Test Loss: 0.41365373134613037\n",
            "Test Accuracy: 0.8257261514663696\n"
          ]
        }
      ]
    },
    {
      "cell_type": "code",
      "source": [
        "model.summary()"
      ],
      "metadata": {
        "id": "Hd1RLFdgp4Np",
        "colab": {
          "base_uri": "https://localhost:8080/"
        },
        "outputId": "3e3ccdaf-27b5-4b48-cba1-d91792704734"
      },
      "execution_count": 64,
      "outputs": [
        {
          "output_type": "stream",
          "name": "stdout",
          "text": [
            "Model: \"sequential_16\"\n",
            "_________________________________________________________________\n",
            " Layer (type)                Output Shape              Param #   \n",
            "=================================================================\n",
            " text_vectorization_1 (Text  (None, None)              0         \n",
            " Vectorization)                                                  \n",
            "                                                                 \n",
            " embedding_14 (Embedding)    (None, None, 128)         15744     \n",
            "                                                                 \n",
            " bidirectional_6 (Bidirecti  (None, 128)               98816     \n",
            " onal)                                                           \n",
            "                                                                 \n",
            " dense_36 (Dense)            (None, 64)                8256      \n",
            "                                                                 \n",
            " dropout_6 (Dropout)         (None, 64)                0         \n",
            "                                                                 \n",
            " dense_37 (Dense)            (None, 4)                 260       \n",
            "                                                                 \n",
            "=================================================================\n",
            "Total params: 123076 (480.77 KB)\n",
            "Trainable params: 123076 (480.77 KB)\n",
            "Non-trainable params: 0 (0.00 Byte)\n",
            "_________________________________________________________________\n"
          ]
        }
      ]
    },
    {
      "cell_type": "markdown",
      "source": [
        "### Q1-2\n",
        "\n",
        "Show your confusion matrix."
      ],
      "metadata": {
        "id": "Ll7UvYvDXVYI"
      }
    },
    {
      "cell_type": "code",
      "source": [
        "import numpy as np\n",
        "from sklearn.metrics import confusion_matrix\n",
        "# 進行預測\n",
        "predictions = model.predict(val_dataset)\n",
        "y_pred = np.argmax(predictions, axis=1)\n",
        "\n",
        "# 取出真實標籤\n",
        "y_true = np.concatenate([y for x, y in val_dataset], axis=0)\n",
        "\n",
        "# 計算混淆矩陣\n",
        "conf_matrix = confusion_matrix(y_true, y_pred)\n",
        "\n",
        "print(\"Confusion Matrix:\")\n",
        "print(conf_matrix)"
      ],
      "metadata": {
        "colab": {
          "base_uri": "https://localhost:8080/"
        },
        "id": "GFuDFWKG7kbn",
        "outputId": "934eebfb-7226-42f9-d679-63a2b7e9bd09"
      },
      "execution_count": 70,
      "outputs": [
        {
          "output_type": "stream",
          "name": "stdout",
          "text": [
            "8/8 [==============================] - 3s 113ms/step\n",
            "Confusion Matrix:\n",
            "[[ 8 14 16 20]\n",
            " [12 17 14 10]\n",
            " [12 17 18 15]\n",
            " [13 18 14 23]]\n"
          ]
        }
      ]
    },
    {
      "cell_type": "markdown",
      "source": [
        "## Q2\n",
        "\n",
        "Try to use one-hot encoding and a dense neural network to classify the same dataset."
      ],
      "metadata": {
        "id": "AF-y_LaaXo0r"
      }
    },
    {
      "cell_type": "markdown",
      "source": [
        "###Q2-1\n",
        "\n",
        "Show your model summary."
      ],
      "metadata": {
        "id": "5zPZxIrKX0_0"
      }
    },
    {
      "cell_type": "code",
      "source": [
        "model = tf.keras.Sequential([\n",
        "    encoder,\n",
        "    tf.keras.layers.Embedding(\n",
        "        input_dim=len(encoder.get_vocabulary()),\n",
        "        output_dim=128,\n",
        "        mask_zero=True),\n",
        "    tf.keras.layers.Bidirectional(tf.keras.layers.LSTM(128)),\n",
        "    tf.keras.layers.Dense(128, activation='relu'),\n",
        "    tf.keras.layers.Flatten(),  # Add this line to flatten the output\n",
        "    tf.keras.layers.Dense(num_class, activation='softmax')\n",
        "])"
      ],
      "metadata": {
        "id": "hZczt8rawmh3"
      },
      "execution_count": 71,
      "outputs": []
    },
    {
      "cell_type": "code",
      "source": [
        "model.compile(loss=tf.keras.losses.SparseCategoricalCrossentropy(from_logits=False),\n",
        "              optimizer=tf.keras.optimizers.Adam(1e-4),\n",
        "              metrics=['accuracy'])"
      ],
      "metadata": {
        "id": "qQH2rXSc3V0h"
      },
      "execution_count": 72,
      "outputs": []
    },
    {
      "cell_type": "code",
      "source": [
        "history = model.fit(train_dataset, epochs=10,\n",
        "                    validation_data = val_dataset, # isn't it cheating?\n",
        "                    )"
      ],
      "metadata": {
        "colab": {
          "base_uri": "https://localhost:8080/"
        },
        "id": "-qauVEqo3aId",
        "outputId": "c46549c1-ea2d-4f25-d23f-d6bc7045977c"
      },
      "execution_count": 73,
      "outputs": [
        {
          "output_type": "stream",
          "name": "stdout",
          "text": [
            "Epoch 1/10\n",
            "31/31 [==============================] - 23s 362ms/step - loss: 1.3657 - accuracy: 0.5750 - val_loss: 1.3416 - val_accuracy: 0.6432\n",
            "Epoch 2/10\n",
            "31/31 [==============================] - 7s 221ms/step - loss: 1.3050 - accuracy: 0.6515 - val_loss: 1.2411 - val_accuracy: 0.6390\n",
            "Epoch 3/10\n",
            "31/31 [==============================] - 7s 201ms/step - loss: 1.0831 - accuracy: 0.5988 - val_loss: 0.8547 - val_accuracy: 0.7054\n",
            "Epoch 4/10\n",
            "31/31 [==============================] - 7s 230ms/step - loss: 0.7364 - accuracy: 0.6743 - val_loss: 0.6025 - val_accuracy: 0.7303\n",
            "Epoch 5/10\n",
            "31/31 [==============================] - 7s 228ms/step - loss: 0.6260 - accuracy: 0.7166 - val_loss: 0.5707 - val_accuracy: 0.7842\n",
            "Epoch 6/10\n",
            "31/31 [==============================] - 6s 207ms/step - loss: 0.6179 - accuracy: 0.7394 - val_loss: 0.5505 - val_accuracy: 0.7884\n",
            "Epoch 7/10\n",
            "31/31 [==============================] - 7s 211ms/step - loss: 0.6040 - accuracy: 0.7353 - val_loss: 0.5521 - val_accuracy: 0.8423\n",
            "Epoch 8/10\n",
            "31/31 [==============================] - 7s 209ms/step - loss: 0.5927 - accuracy: 0.7022 - val_loss: 0.5919 - val_accuracy: 0.8091\n",
            "Epoch 9/10\n",
            "31/31 [==============================] - 7s 206ms/step - loss: 0.6083 - accuracy: 0.7332 - val_loss: 0.5133 - val_accuracy: 0.8299\n",
            "Epoch 10/10\n",
            "31/31 [==============================] - 7s 223ms/step - loss: 0.5745 - accuracy: 0.7642 - val_loss: 0.5069 - val_accuracy: 0.8506\n"
          ]
        }
      ]
    },
    {
      "cell_type": "code",
      "source": [
        "# print Q2-1 model\n",
        "model.summary()"
      ],
      "metadata": {
        "colab": {
          "base_uri": "https://localhost:8080/"
        },
        "id": "wb-CYckF3j1R",
        "outputId": "cd1eeca3-61e9-4c56-8012-1a6d5e0902ce"
      },
      "execution_count": 74,
      "outputs": [
        {
          "output_type": "stream",
          "name": "stdout",
          "text": [
            "Model: \"sequential_19\"\n",
            "_________________________________________________________________\n",
            " Layer (type)                Output Shape              Param #   \n",
            "=================================================================\n",
            " text_vectorization_1 (Text  (None, None)              0         \n",
            " Vectorization)                                                  \n",
            "                                                                 \n",
            " embedding_17 (Embedding)    (None, None, 128)         15744     \n",
            "                                                                 \n",
            " bidirectional_9 (Bidirecti  (None, 256)               263168    \n",
            " onal)                                                           \n",
            "                                                                 \n",
            " dense_42 (Dense)            (None, 128)               32896     \n",
            "                                                                 \n",
            " flatten_8 (Flatten)         (None, 128)               0         \n",
            "                                                                 \n",
            " dense_43 (Dense)            (None, 4)                 516       \n",
            "                                                                 \n",
            "=================================================================\n",
            "Total params: 312324 (1.19 MB)\n",
            "Trainable params: 312324 (1.19 MB)\n",
            "Non-trainable params: 0 (0.00 Byte)\n",
            "_________________________________________________________________\n"
          ]
        }
      ]
    },
    {
      "cell_type": "code",
      "source": [
        "# use val_dataset as testing dataset\n",
        "test_loss, test_acc = model.evaluate(val_dataset)\n",
        "\n",
        "print('Test Loss:', test_loss)\n",
        "print('Test Accuracy:', test_acc)"
      ],
      "metadata": {
        "colab": {
          "base_uri": "https://localhost:8080/"
        },
        "id": "kajg1aSuE0QN",
        "outputId": "7cbe7a45-39a7-4489-d4e3-10ddb75f2170"
      },
      "execution_count": 77,
      "outputs": [
        {
          "output_type": "stream",
          "name": "stdout",
          "text": [
            "8/8 [==============================] - 1s 69ms/step - loss: 0.5069 - accuracy: 0.8506\n",
            "Test Loss: 0.5068659782409668\n",
            "Test Accuracy: 0.8506224155426025\n"
          ]
        }
      ]
    },
    {
      "cell_type": "markdown",
      "source": [
        "###Q2-2\n",
        "\n",
        "Show the confusion matrix of one-hot dense mdoel.\n"
      ],
      "metadata": {
        "id": "7kI3S_3bYAn1"
      }
    },
    {
      "cell_type": "code",
      "source": [
        "import numpy as np\n",
        "from sklearn.metrics import confusion_matrix\n",
        "\n",
        "# 進行預測\n",
        "predictions = model.predict(val_dataset)\n",
        "y_pred = np.argmax(predictions, axis=1)\n",
        "\n",
        "# 取出真實標籤\n",
        "y_true = np.concatenate([y for x, y in val_dataset], axis=0)\n",
        "\n",
        "# 計算混淆矩陣\n",
        "conf_matrix = confusion_matrix(y_true, y_pred)\n",
        "\n",
        "print(\"Confusion Matrix:\")\n",
        "print(conf_matrix)"
      ],
      "metadata": {
        "colab": {
          "base_uri": "https://localhost:8080/"
        },
        "id": "KJDILWS08ztw",
        "outputId": "99d22d0c-b47d-4780-c37a-8bf9e4420fba"
      },
      "execution_count": 75,
      "outputs": [
        {
          "output_type": "stream",
          "name": "stdout",
          "text": [
            "8/8 [==============================] - 3s 75ms/step\n",
            "Confusion Matrix:\n",
            "[[16 10 16 16]\n",
            " [12 16 15 10]\n",
            " [22 12 10 18]\n",
            " [13 11 21 23]]\n"
          ]
        }
      ]
    },
    {
      "cell_type": "markdown",
      "source": [
        "##Q3\n",
        "\n"
      ],
      "metadata": {
        "id": "UeoAH1_dYG9c"
      }
    },
    {
      "cell_type": "markdown",
      "source": [
        "###Q3-1\n",
        "\n",
        "Which model performs better? Why?"
      ],
      "metadata": {
        "id": "pWhH30jEYJJl"
      }
    },
    {
      "cell_type": "markdown",
      "source": [
        "在給定的情況下，one-hot 模型的測試準確度（0.8506）確實優於原本的 RNN 模型（0.8257）。這顯示出在這個特定的問題上，one-hot 模型表現更好。這可能是由於其較簡單的模型結構和較少的參數量，使其能夠更好地適應訓練資料並獲得更好的泛化性能。\n",
        "\n",
        "因此，根據給定的測試結果，在這個問題上，one-hot 模型表現更好。"
      ],
      "metadata": {
        "id": "Tl_TXLbhFB4l"
      }
    },
    {
      "cell_type": "markdown",
      "source": [
        "###Q3-2\n",
        "\n",
        "If you extend the input size of RNN, will the acc increase? Or there should be a sweet spot of the length?"
      ],
      "metadata": {
        "id": "edPW8-QsYXp5"
      }
    },
    {
      "cell_type": "markdown",
      "source": [
        "增加 RNN 的輸入大小不一定會直接導致準確度的提高。RNN 模型的性能受到多個因素的影響，包括資料的特性、模型的架構、訓練方式等等。在某些情況下，增加輸入大小可能有助於模型更好地捕捉時間序列資料的特徵，從而提高準確度。然而，在其他情況下，增加輸入大小可能會導致模型過於複雜，出現過擬合的問題，從而降低準確度。"
      ],
      "metadata": {
        "id": "0e_JhtsD9Qe7"
      }
    },
    {
      "cell_type": "markdown",
      "source": [
        "###Q3-3\n",
        "\n",
        "If you use one-hot two-gram or one-hot three-gram, will the dense model become better?"
      ],
      "metadata": {
        "id": "mBm6Yq-AYq1F"
      }
    },
    {
      "cell_type": "markdown",
      "source": [
        "使用 one-hot 編碼的二元組或三元組可能會提高密集模型的效果。這是因為二元組或三元組可以捕捉更多的詞彙關聯性和語境信息，從而提供更豐富的特徵表示。這樣的話，模型在預測時將能夠更好地理解詞彙之間的關係，從而提高分類的準確性。然而，這也可能增加模型的計算成本和記憶體需求。總體而言，將二元組或三元組的 one-hot 編碼用於密集模型可能會改善模型的性能。"
      ],
      "metadata": {
        "id": "MWwM13PK9Czf"
      }
    }
  ]
}